{
  "nbformat": 4,
  "nbformat_minor": 0,
  "metadata": {
    "colab": {
      "name": "Análise loto.ipynb",
      "provenance": [],
      "collapsed_sections": [
        "zqi-2Si3yku3",
        "CU7-j7d_dxOl"
      ],
      "toc_visible": true,
      "mount_file_id": "1hNiQP025P8u2HMrPcat1FW6zU_r_jeZo",
      "authorship_tag": "ABX9TyPLKqiIpyBsJaLw3/paHc03",
      "include_colab_link": true
    },
    "kernelspec": {
      "name": "python3",
      "display_name": "Python 3"
    }
  },
  "cells": [
    {
      "cell_type": "markdown",
      "metadata": {
        "id": "view-in-github",
        "colab_type": "text"
      },
      "source": [
        "<a href=\"https://colab.research.google.com/github/AugustoMgit/Machine-Learning/blob/master/An%C3%A1lise_loto.ipynb\" target=\"_parent\"><img src=\"https://colab.research.google.com/assets/colab-badge.svg\" alt=\"Open In Colab\"/></a>"
      ]
    },
    {
      "cell_type": "code",
      "metadata": {
        "id": "B4dEGRxW3IwD"
      },
      "source": [
        "import pandas as pd\n",
        "import numpy as np"
      ],
      "execution_count": null,
      "outputs": []
    },
    {
      "cell_type": "code",
      "metadata": {
        "id": "6RggmsL-3NXN"
      },
      "source": [
        "df = pd.read_csv('lotofacil_all.csv')"
      ],
      "execution_count": null,
      "outputs": []
    },
    {
      "cell_type": "code",
      "metadata": {
        "colab": {
          "base_uri": "https://localhost:8080/",
          "height": 204
        },
        "id": "8Ke84K-K3hzz",
        "outputId": "2106d3af-eb37-49a3-b8d2-443b31cedab2"
      },
      "source": [
        "df.head()"
      ],
      "execution_count": null,
      "outputs": [
        {
          "output_type": "execute_result",
          "data": {
            "text/html": [
              "<div>\n",
              "<style scoped>\n",
              "    .dataframe tbody tr th:only-of-type {\n",
              "        vertical-align: middle;\n",
              "    }\n",
              "\n",
              "    .dataframe tbody tr th {\n",
              "        vertical-align: top;\n",
              "    }\n",
              "\n",
              "    .dataframe thead th {\n",
              "        text-align: right;\n",
              "    }\n",
              "</style>\n",
              "<table border=\"1\" class=\"dataframe\">\n",
              "  <thead>\n",
              "    <tr style=\"text-align: right;\">\n",
              "      <th></th>\n",
              "      <th>Concurso</th>\n",
              "      <th>Numeros</th>\n",
              "      <th>Ganhadores</th>\n",
              "    </tr>\n",
              "  </thead>\n",
              "  <tbody>\n",
              "    <tr>\n",
              "      <th>0</th>\n",
              "      <td>2108</td>\n",
              "      <td>[1, 3, 4, 5, 6, 7, 9, 13, 16, 17, 18, 19, 21, ...</td>\n",
              "      <td>0</td>\n",
              "    </tr>\n",
              "    <tr>\n",
              "      <th>1</th>\n",
              "      <td>2107</td>\n",
              "      <td>[1, 2, 3, 5, 7, 8, 9, 12, 13, 16, 18, 20, 22, ...</td>\n",
              "      <td>4</td>\n",
              "    </tr>\n",
              "    <tr>\n",
              "      <th>2</th>\n",
              "      <td>2106</td>\n",
              "      <td>[2, 4, 6, 7, 8, 9, 11, 12, 13, 14, 15, 16, 17,...</td>\n",
              "      <td>1</td>\n",
              "    </tr>\n",
              "    <tr>\n",
              "      <th>3</th>\n",
              "      <td>2105</td>\n",
              "      <td>[3, 7, 8, 9, 10, 13, 14, 16, 17, 18, 19, 20, 2...</td>\n",
              "      <td>3</td>\n",
              "    </tr>\n",
              "    <tr>\n",
              "      <th>4</th>\n",
              "      <td>2104</td>\n",
              "      <td>[2, 4, 5, 6, 8, 9, 10, 11, 12, 14, 17, 18, 20,...</td>\n",
              "      <td>7</td>\n",
              "    </tr>\n",
              "  </tbody>\n",
              "</table>\n",
              "</div>"
            ],
            "text/plain": [
              "   Concurso                                            Numeros  Ganhadores\n",
              "0      2108  [1, 3, 4, 5, 6, 7, 9, 13, 16, 17, 18, 19, 21, ...           0\n",
              "1      2107  [1, 2, 3, 5, 7, 8, 9, 12, 13, 16, 18, 20, 22, ...           4\n",
              "2      2106  [2, 4, 6, 7, 8, 9, 11, 12, 13, 14, 15, 16, 17,...           1\n",
              "3      2105  [3, 7, 8, 9, 10, 13, 14, 16, 17, 18, 19, 20, 2...           3\n",
              "4      2104  [2, 4, 5, 6, 8, 9, 10, 11, 12, 14, 17, 18, 20,...           7"
            ]
          },
          "metadata": {
            "tags": []
          },
          "execution_count": 615
        }
      ]
    },
    {
      "cell_type": "code",
      "metadata": {
        "id": "hA9MK2Hl3oQO"
      },
      "source": [
        "jogo1 = df.Numeros[1]"
      ],
      "execution_count": null,
      "outputs": []
    },
    {
      "cell_type": "code",
      "metadata": {
        "id": "O52ZlA4v39Ve"
      },
      "source": [
        "jogo2 = df.Numeros[2]"
      ],
      "execution_count": null,
      "outputs": []
    },
    {
      "cell_type": "code",
      "metadata": {
        "colab": {
          "base_uri": "https://localhost:8080/"
        },
        "id": "CA8NwPKR3_rH",
        "outputId": "9a7d80b0-962a-4e50-9ef7-123733940263"
      },
      "source": [
        "jogo1 == jogo2"
      ],
      "execution_count": null,
      "outputs": [
        {
          "output_type": "execute_result",
          "data": {
            "text/plain": [
              "False"
            ]
          },
          "metadata": {
            "tags": []
          },
          "execution_count": 618
        }
      ]
    },
    {
      "cell_type": "code",
      "metadata": {
        "colab": {
          "base_uri": "https://localhost:8080/",
          "height": 35
        },
        "id": "k6VeNqz94BK_",
        "outputId": "353cb475-4a42-48bb-ba77-adcf05aa038a"
      },
      "source": [
        "jogo1"
      ],
      "execution_count": null,
      "outputs": [
        {
          "output_type": "execute_result",
          "data": {
            "application/vnd.google.colaboratory.intrinsic+json": {
              "type": "string"
            },
            "text/plain": [
              "'[1, 2, 3, 5, 7, 8, 9, 12, 13, 16, 18, 20, 22, 24, 25]'"
            ]
          },
          "metadata": {
            "tags": []
          },
          "execution_count": 619
        }
      ]
    },
    {
      "cell_type": "code",
      "metadata": {
        "colab": {
          "base_uri": "https://localhost:8080/",
          "height": 35
        },
        "id": "pp_tNaTR4FSD",
        "outputId": "67e8dd00-a5c7-4e86-f4e3-6e10a69139be"
      },
      "source": [
        "jogo2"
      ],
      "execution_count": null,
      "outputs": [
        {
          "output_type": "execute_result",
          "data": {
            "application/vnd.google.colaboratory.intrinsic+json": {
              "type": "string"
            },
            "text/plain": [
              "'[2, 4, 6, 7, 8, 9, 11, 12, 13, 14, 15, 16, 17, 21, 24]'"
            ]
          },
          "metadata": {
            "tags": []
          },
          "execution_count": 620
        }
      ]
    },
    {
      "cell_type": "code",
      "metadata": {
        "id": "RteX217l4cgx"
      },
      "source": [
        "for i in range(len(df)):\n",
        "  if df.Numeros[i] == '[2,3,5,7,10,11,12,13,14,17,18,19,20,22,24,28]':\n",
        "    print(\"Jogo igual ao meu já saiu\")"
      ],
      "execution_count": null,
      "outputs": []
    },
    {
      "cell_type": "code",
      "metadata": {
        "id": "Pd-U2g_m6Xe6"
      },
      "source": [
        "import time"
      ],
      "execution_count": null,
      "outputs": []
    },
    {
      "cell_type": "code",
      "metadata": {
        "id": "Rv5cOWGq5Mmf",
        "colab": {
          "base_uri": "https://localhost:8080/"
        },
        "outputId": "6bc304c0-f93d-433c-d2e6-a26a9b82b60b"
      },
      "source": [
        "for i in range(len(df)):\n",
        "  jogo_init = df.Numeros[i]\n",
        "  #print(\"jogo inicial\", i, \"resultado\", jogo_init)\n",
        "  for j in range(len(df)):\n",
        "    jogo_comp = df.Numeros[j]\n",
        "    if i ==j:\n",
        "      continue\n",
        "    #print(\"jogo: \", j , \"resultaddo\", jogo_comp)\n",
        "    #time.sleep(3)\n",
        "    #if j==10:\n",
        "    #  break\n",
        "    if jogo_init == jogo_comp:\n",
        "      if i == j+1 or i == j-1:\n",
        "        continue\n",
        "      print(\"JOGOS IGUAIS:\\n\", jogo_init, jogo_comp)\n",
        "      print(\"indice i: \", i ,\" e indice j: \", j)"
      ],
      "execution_count": null,
      "outputs": [
        {
          "output_type": "stream",
          "text": [
            "JOGOS IGUAIS:\n",
            " [1, 3, 4, 5, 6, 7, 9, 13, 16, 17, 18, 19, 21, 24, 25] [1, 3, 4, 5, 6, 7, 9, 13, 16, 17, 18, 19, 21, 24, 25]\n",
            "indice i:  0  e indice j:  138\n",
            "JOGOS IGUAIS:\n",
            " [1, 3, 4, 5, 6, 7, 9, 13, 16, 17, 18, 19, 21, 24, 25] [1, 3, 4, 5, 6, 7, 9, 13, 16, 17, 18, 19, 21, 24, 25]\n",
            "indice i:  0  e indice j:  261\n",
            "JOGOS IGUAIS:\n",
            " [1, 3, 4, 5, 6, 7, 9, 13, 16, 17, 18, 19, 21, 24, 25] [1, 3, 4, 5, 6, 7, 9, 13, 16, 17, 18, 19, 21, 24, 25]\n",
            "indice i:  138  e indice j:  0\n",
            "JOGOS IGUAIS:\n",
            " [1, 3, 4, 5, 6, 7, 9, 13, 16, 17, 18, 19, 21, 24, 25] [1, 3, 4, 5, 6, 7, 9, 13, 16, 17, 18, 19, 21, 24, 25]\n",
            "indice i:  138  e indice j:  261\n",
            "JOGOS IGUAIS:\n",
            " [1, 3, 4, 5, 6, 7, 9, 13, 16, 17, 18, 19, 21, 24, 25] [1, 3, 4, 5, 6, 7, 9, 13, 16, 17, 18, 19, 21, 24, 25]\n",
            "indice i:  261  e indice j:  0\n",
            "JOGOS IGUAIS:\n",
            " [1, 3, 4, 5, 6, 7, 9, 13, 16, 17, 18, 19, 21, 24, 25] [1, 3, 4, 5, 6, 7, 9, 13, 16, 17, 18, 19, 21, 24, 25]\n",
            "indice i:  261  e indice j:  138\n"
          ],
          "name": "stdout"
        }
      ]
    },
    {
      "cell_type": "code",
      "metadata": {
        "id": "EFOGQgnf7nA2",
        "colab": {
          "base_uri": "https://localhost:8080/"
        },
        "outputId": "8e07475e-6cf3-4f7d-88cd-70eea8f96e67"
      },
      "source": [
        "df.iloc[595] == df.iloc[596]"
      ],
      "execution_count": null,
      "outputs": [
        {
          "output_type": "execute_result",
          "data": {
            "text/plain": [
              "Concurso      False\n",
              "Numeros        True\n",
              "Ganhadores     True\n",
              "dtype: bool"
            ]
          },
          "metadata": {
            "tags": []
          },
          "execution_count": 624
        }
      ]
    },
    {
      "cell_type": "code",
      "metadata": {
        "id": "mzVycok675ix",
        "colab": {
          "base_uri": "https://localhost:8080/"
        },
        "outputId": "fcfe5e85-ce48-47c3-be5a-9041d2861659"
      },
      "source": [
        "df.iloc[261] == df.iloc[0]"
      ],
      "execution_count": null,
      "outputs": [
        {
          "output_type": "execute_result",
          "data": {
            "text/plain": [
              "Concurso      False\n",
              "Numeros        True\n",
              "Ganhadores     True\n",
              "dtype: bool"
            ]
          },
          "metadata": {
            "tags": []
          },
          "execution_count": 625
        }
      ]
    },
    {
      "cell_type": "code",
      "metadata": {
        "colab": {
          "base_uri": "https://localhost:8080/"
        },
        "id": "y8dEDqvR81mV",
        "outputId": "3cb5fc73-58a4-4e85-f718-9525f3904064"
      },
      "source": [
        "df.Concurso[1981]"
      ],
      "execution_count": null,
      "outputs": [
        {
          "output_type": "execute_result",
          "data": {
            "text/plain": [
              "126"
            ]
          },
          "metadata": {
            "tags": []
          },
          "execution_count": 626
        }
      ]
    },
    {
      "cell_type": "code",
      "metadata": {
        "id": "XWLi-mv-9D9v"
      },
      "source": [
        "list_numbers = df.Numeros[0].split(\" ' \")"
      ],
      "execution_count": null,
      "outputs": []
    },
    {
      "cell_type": "code",
      "metadata": {
        "colab": {
          "base_uri": "https://localhost:8080/"
        },
        "id": "k651KfE-bpUC",
        "outputId": "dbfe145f-8fb7-4f68-bbd2-756faff5f3d2"
      },
      "source": [
        "list_numbers"
      ],
      "execution_count": null,
      "outputs": [
        {
          "output_type": "execute_result",
          "data": {
            "text/plain": [
              "['[1, 3, 4, 5, 6, 7, 9, 13, 16, 17, 18, 19, 21, 24, 25]']"
            ]
          },
          "metadata": {
            "tags": []
          },
          "execution_count": 628
        }
      ]
    },
    {
      "cell_type": "code",
      "metadata": {
        "id": "Q-vziuaRdEsf"
      },
      "source": [
        "df.Numeros = df.Numeros.apply(lambda x: x.strip('[ ] ').split(','))"
      ],
      "execution_count": null,
      "outputs": []
    },
    {
      "cell_type": "code",
      "metadata": {
        "id": "ZTM6lYbohqyR",
        "colab": {
          "base_uri": "https://localhost:8080/"
        },
        "outputId": "e18e5322-593d-44c7-c21b-06b52db9b99b"
      },
      "source": [
        "df.Numeros[0]"
      ],
      "execution_count": null,
      "outputs": [
        {
          "output_type": "execute_result",
          "data": {
            "text/plain": [
              "['1',\n",
              " ' 3',\n",
              " ' 4',\n",
              " ' 5',\n",
              " ' 6',\n",
              " ' 7',\n",
              " ' 9',\n",
              " ' 13',\n",
              " ' 16',\n",
              " ' 17',\n",
              " ' 18',\n",
              " ' 19',\n",
              " ' 21',\n",
              " ' 24',\n",
              " ' 25']"
            ]
          },
          "metadata": {
            "tags": []
          },
          "execution_count": 630
        }
      ]
    },
    {
      "cell_type": "code",
      "metadata": {
        "colab": {
          "base_uri": "https://localhost:8080/"
        },
        "id": "0i6kyp37g7uM",
        "outputId": "d72dedd1-4edd-438e-cabe-409172b18717"
      },
      "source": [
        "#converte os valores em str para inteiro dentro da list\n",
        "for i in range(len(df.Numeros)):\n",
        "  df.Numeros[i] = [int(num) for num in df.Numeros[i]]"
      ],
      "execution_count": null,
      "outputs": [
        {
          "output_type": "stream",
          "text": [
            "/usr/local/lib/python3.6/dist-packages/ipykernel_launcher.py:3: SettingWithCopyWarning: \n",
            "A value is trying to be set on a copy of a slice from a DataFrame\n",
            "\n",
            "See the caveats in the documentation: https://pandas.pydata.org/pandas-docs/stable/user_guide/indexing.html#returning-a-view-versus-a-copy\n",
            "  This is separate from the ipykernel package so we can avoid doing imports until\n"
          ],
          "name": "stderr"
        }
      ]
    },
    {
      "cell_type": "code",
      "metadata": {
        "id": "J9Pwa8nqhlxW",
        "colab": {
          "base_uri": "https://localhost:8080/"
        },
        "outputId": "98a58430-f85d-4aa4-fb37-a1f69f2df6f8"
      },
      "source": [
        "df.Numeros[0]"
      ],
      "execution_count": null,
      "outputs": [
        {
          "output_type": "execute_result",
          "data": {
            "text/plain": [
              "[1, 3, 4, 5, 6, 7, 9, 13, 16, 17, 18, 19, 21, 24, 25]"
            ]
          },
          "metadata": {
            "tags": []
          },
          "execution_count": 632
        }
      ]
    },
    {
      "cell_type": "code",
      "metadata": {
        "id": "a2gAIPneiM7S",
        "colab": {
          "base_uri": "https://localhost:8080/",
          "height": 204
        },
        "outputId": "d5660aa3-7871-452d-f2a0-96761efdcafa"
      },
      "source": [
        "df.head()"
      ],
      "execution_count": null,
      "outputs": [
        {
          "output_type": "execute_result",
          "data": {
            "text/html": [
              "<div>\n",
              "<style scoped>\n",
              "    .dataframe tbody tr th:only-of-type {\n",
              "        vertical-align: middle;\n",
              "    }\n",
              "\n",
              "    .dataframe tbody tr th {\n",
              "        vertical-align: top;\n",
              "    }\n",
              "\n",
              "    .dataframe thead th {\n",
              "        text-align: right;\n",
              "    }\n",
              "</style>\n",
              "<table border=\"1\" class=\"dataframe\">\n",
              "  <thead>\n",
              "    <tr style=\"text-align: right;\">\n",
              "      <th></th>\n",
              "      <th>Concurso</th>\n",
              "      <th>Numeros</th>\n",
              "      <th>Ganhadores</th>\n",
              "    </tr>\n",
              "  </thead>\n",
              "  <tbody>\n",
              "    <tr>\n",
              "      <th>0</th>\n",
              "      <td>2108</td>\n",
              "      <td>[1, 3, 4, 5, 6, 7, 9, 13, 16, 17, 18, 19, 21, ...</td>\n",
              "      <td>0</td>\n",
              "    </tr>\n",
              "    <tr>\n",
              "      <th>1</th>\n",
              "      <td>2107</td>\n",
              "      <td>[1, 2, 3, 5, 7, 8, 9, 12, 13, 16, 18, 20, 22, ...</td>\n",
              "      <td>4</td>\n",
              "    </tr>\n",
              "    <tr>\n",
              "      <th>2</th>\n",
              "      <td>2106</td>\n",
              "      <td>[2, 4, 6, 7, 8, 9, 11, 12, 13, 14, 15, 16, 17,...</td>\n",
              "      <td>1</td>\n",
              "    </tr>\n",
              "    <tr>\n",
              "      <th>3</th>\n",
              "      <td>2105</td>\n",
              "      <td>[3, 7, 8, 9, 10, 13, 14, 16, 17, 18, 19, 20, 2...</td>\n",
              "      <td>3</td>\n",
              "    </tr>\n",
              "    <tr>\n",
              "      <th>4</th>\n",
              "      <td>2104</td>\n",
              "      <td>[2, 4, 5, 6, 8, 9, 10, 11, 12, 14, 17, 18, 20,...</td>\n",
              "      <td>7</td>\n",
              "    </tr>\n",
              "  </tbody>\n",
              "</table>\n",
              "</div>"
            ],
            "text/plain": [
              "   Concurso                                            Numeros  Ganhadores\n",
              "0      2108  [1, 3, 4, 5, 6, 7, 9, 13, 16, 17, 18, 19, 21, ...           0\n",
              "1      2107  [1, 2, 3, 5, 7, 8, 9, 12, 13, 16, 18, 20, 22, ...           4\n",
              "2      2106  [2, 4, 6, 7, 8, 9, 11, 12, 13, 14, 15, 16, 17,...           1\n",
              "3      2105  [3, 7, 8, 9, 10, 13, 14, 16, 17, 18, 19, 20, 2...           3\n",
              "4      2104  [2, 4, 5, 6, 8, 9, 10, 11, 12, 14, 17, 18, 20,...           7"
            ]
          },
          "metadata": {
            "tags": []
          },
          "execution_count": 633
        }
      ]
    },
    {
      "cell_type": "markdown",
      "metadata": {
        "id": "NqjmvYlfiSlc"
      },
      "source": [
        "ACRESCENTANDO COLUNAS DE SEQUÊNCIAS, IMPARES, PARES E NUMEROS PRIMOS\n",
        "\n",
        "---\n",
        "\n"
      ]
    },
    {
      "cell_type": "code",
      "metadata": {
        "id": "JRwZf0UbziMm"
      },
      "source": [
        "#list_indice = range(1,16)\n",
        "#list_indice[14]\n"
      ],
      "execution_count": null,
      "outputs": []
    },
    {
      "cell_type": "code",
      "metadata": {
        "id": "Z2BxWCzDpqcC"
      },
      "source": [
        "#df.Numeros[0]"
      ],
      "execution_count": null,
      "outputs": []
    },
    {
      "cell_type": "code",
      "metadata": {
        "id": "6718uZryTCQh"
      },
      "source": [
        "#values_comp2 = df.Numeros[0].insert( 0, df.Numeros[0][0])"
      ],
      "execution_count": null,
      "outputs": []
    },
    {
      "cell_type": "code",
      "metadata": {
        "id": "UhL0GPJtP4Qm"
      },
      "source": [
        "#values_comp2 = df.Numeros[0].copy()\n",
        "#print(values_comp2)"
      ],
      "execution_count": null,
      "outputs": []
    },
    {
      "cell_type": "code",
      "metadata": {
        "id": "DmnUT3bYSrua"
      },
      "source": [
        "#values_comp = df.Numeros[i].append(0)\n",
        "#values_comp2 = df.Numeros[i].insert(0, df.Numeros[i][0])"
      ],
      "execution_count": null,
      "outputs": []
    },
    {
      "cell_type": "code",
      "metadata": {
        "id": "_Ls6vG9tXq6d",
        "colab": {
          "base_uri": "https://localhost:8080/",
          "height": 52
        },
        "outputId": "fb7b93aa-cfb7-465e-eaa7-5ca13f2a5814"
      },
      "source": [
        "'''values_comp1 = df.Numeros[i].copy()\n",
        "values_comp2 = df.Numeros[i].copy()\n",
        "values_comp1.append(0)\n",
        "values_comp2.insert(0, df.Numeros[i][0])'''"
      ],
      "execution_count": null,
      "outputs": [
        {
          "output_type": "execute_result",
          "data": {
            "application/vnd.google.colaboratory.intrinsic+json": {
              "type": "string"
            },
            "text/plain": [
              "'values_comp1 = df.Numeros[i].copy()\\nvalues_comp2 = df.Numeros[i].copy()\\nvalues_comp1.append(0)\\nvalues_comp2.insert(0, df.Numeros[i][0])'"
            ]
          },
          "metadata": {
            "tags": []
          },
          "execution_count": 640
        }
      ]
    },
    {
      "cell_type": "code",
      "metadata": {
        "id": "NcfAJGhJgj1Z"
      },
      "source": [
        "df['Pares'] = 0"
      ],
      "execution_count": null,
      "outputs": []
    },
    {
      "cell_type": "code",
      "metadata": {
        "id": "QqwOrqE_hT98"
      },
      "source": [
        "df['Impares'] = 1"
      ],
      "execution_count": null,
      "outputs": []
    },
    {
      "cell_type": "code",
      "metadata": {
        "id": "RuZf7IZlcXc1",
        "colab": {
          "base_uri": "https://localhost:8080/"
        },
        "outputId": "f9618979-687b-459a-8708-6fa6ea09d094"
      },
      "source": [
        "for i in range(len(df.Numeros)):\n",
        "  contPares=0\n",
        "  for j in range(0,15):\n",
        "    if df.Numeros[i][j]%2==0:\n",
        "      contPares +=1\n",
        "  df.Pares[i] = contPares\n",
        "  df.Impares[i] = 15 - contPares\n",
        "  #print(contPares)\n",
        "  #break\n",
        "#print(contPares)"
      ],
      "execution_count": null,
      "outputs": [
        {
          "output_type": "stream",
          "text": [
            "/usr/local/lib/python3.6/dist-packages/ipykernel_launcher.py:6: SettingWithCopyWarning: \n",
            "A value is trying to be set on a copy of a slice from a DataFrame\n",
            "\n",
            "See the caveats in the documentation: https://pandas.pydata.org/pandas-docs/stable/user_guide/indexing.html#returning-a-view-versus-a-copy\n",
            "  \n",
            "/usr/local/lib/python3.6/dist-packages/ipykernel_launcher.py:7: SettingWithCopyWarning: \n",
            "A value is trying to be set on a copy of a slice from a DataFrame\n",
            "\n",
            "See the caveats in the documentation: https://pandas.pydata.org/pandas-docs/stable/user_guide/indexing.html#returning-a-view-versus-a-copy\n",
            "  import sys\n"
          ],
          "name": "stderr"
        }
      ]
    },
    {
      "cell_type": "code",
      "metadata": {
        "colab": {
          "base_uri": "https://localhost:8080/",
          "height": 204
        },
        "id": "5DvSQynkemyu",
        "outputId": "4a900a51-49e7-4646-9cf4-089fe41d871d"
      },
      "source": [
        "df.head()"
      ],
      "execution_count": null,
      "outputs": [
        {
          "output_type": "execute_result",
          "data": {
            "text/html": [
              "<div>\n",
              "<style scoped>\n",
              "    .dataframe tbody tr th:only-of-type {\n",
              "        vertical-align: middle;\n",
              "    }\n",
              "\n",
              "    .dataframe tbody tr th {\n",
              "        vertical-align: top;\n",
              "    }\n",
              "\n",
              "    .dataframe thead th {\n",
              "        text-align: right;\n",
              "    }\n",
              "</style>\n",
              "<table border=\"1\" class=\"dataframe\">\n",
              "  <thead>\n",
              "    <tr style=\"text-align: right;\">\n",
              "      <th></th>\n",
              "      <th>Concurso</th>\n",
              "      <th>Numeros</th>\n",
              "      <th>Ganhadores</th>\n",
              "      <th>Pares</th>\n",
              "      <th>Impares</th>\n",
              "    </tr>\n",
              "  </thead>\n",
              "  <tbody>\n",
              "    <tr>\n",
              "      <th>0</th>\n",
              "      <td>2108</td>\n",
              "      <td>[1, 3, 4, 5, 6, 7, 9, 13, 16, 17, 18, 19, 21, ...</td>\n",
              "      <td>0</td>\n",
              "      <td>5</td>\n",
              "      <td>10</td>\n",
              "    </tr>\n",
              "    <tr>\n",
              "      <th>1</th>\n",
              "      <td>2107</td>\n",
              "      <td>[1, 2, 3, 5, 7, 8, 9, 12, 13, 16, 18, 20, 22, ...</td>\n",
              "      <td>4</td>\n",
              "      <td>8</td>\n",
              "      <td>7</td>\n",
              "    </tr>\n",
              "    <tr>\n",
              "      <th>2</th>\n",
              "      <td>2106</td>\n",
              "      <td>[2, 4, 6, 7, 8, 9, 11, 12, 13, 14, 15, 16, 17,...</td>\n",
              "      <td>1</td>\n",
              "      <td>8</td>\n",
              "      <td>7</td>\n",
              "    </tr>\n",
              "    <tr>\n",
              "      <th>3</th>\n",
              "      <td>2105</td>\n",
              "      <td>[3, 7, 8, 9, 10, 13, 14, 16, 17, 18, 19, 20, 2...</td>\n",
              "      <td>3</td>\n",
              "      <td>7</td>\n",
              "      <td>8</td>\n",
              "    </tr>\n",
              "    <tr>\n",
              "      <th>4</th>\n",
              "      <td>2104</td>\n",
              "      <td>[2, 4, 5, 6, 8, 9, 10, 11, 12, 14, 17, 18, 20,...</td>\n",
              "      <td>7</td>\n",
              "      <td>9</td>\n",
              "      <td>6</td>\n",
              "    </tr>\n",
              "  </tbody>\n",
              "</table>\n",
              "</div>"
            ],
            "text/plain": [
              "   Concurso                                            Numeros  ...  Pares  Impares\n",
              "0      2108  [1, 3, 4, 5, 6, 7, 9, 13, 16, 17, 18, 19, 21, ...  ...      5       10\n",
              "1      2107  [1, 2, 3, 5, 7, 8, 9, 12, 13, 16, 18, 20, 22, ...  ...      8        7\n",
              "2      2106  [2, 4, 6, 7, 8, 9, 11, 12, 13, 14, 15, 16, 17,...  ...      8        7\n",
              "3      2105  [3, 7, 8, 9, 10, 13, 14, 16, 17, 18, 19, 20, 2...  ...      7        8\n",
              "4      2104  [2, 4, 5, 6, 8, 9, 10, 11, 12, 14, 17, 18, 20,...  ...      9        6\n",
              "\n",
              "[5 rows x 5 columns]"
            ]
          },
          "metadata": {
            "tags": []
          },
          "execution_count": 645
        }
      ]
    },
    {
      "cell_type": "code",
      "metadata": {
        "id": "COsmdZAQEvyv"
      },
      "source": [
        "df['Primos'] = 3"
      ],
      "execution_count": null,
      "outputs": []
    },
    {
      "cell_type": "code",
      "metadata": {
        "id": "u6h2XIAVIStm",
        "colab": {
          "base_uri": "https://localhost:8080/",
          "height": 204
        },
        "outputId": "eba2fd21-2f32-4bb0-befa-02e12ed98fad"
      },
      "source": [
        "df.head()"
      ],
      "execution_count": null,
      "outputs": [
        {
          "output_type": "execute_result",
          "data": {
            "text/html": [
              "<div>\n",
              "<style scoped>\n",
              "    .dataframe tbody tr th:only-of-type {\n",
              "        vertical-align: middle;\n",
              "    }\n",
              "\n",
              "    .dataframe tbody tr th {\n",
              "        vertical-align: top;\n",
              "    }\n",
              "\n",
              "    .dataframe thead th {\n",
              "        text-align: right;\n",
              "    }\n",
              "</style>\n",
              "<table border=\"1\" class=\"dataframe\">\n",
              "  <thead>\n",
              "    <tr style=\"text-align: right;\">\n",
              "      <th></th>\n",
              "      <th>Concurso</th>\n",
              "      <th>Numeros</th>\n",
              "      <th>Ganhadores</th>\n",
              "      <th>Pares</th>\n",
              "      <th>Impares</th>\n",
              "      <th>Primos</th>\n",
              "    </tr>\n",
              "  </thead>\n",
              "  <tbody>\n",
              "    <tr>\n",
              "      <th>0</th>\n",
              "      <td>2108</td>\n",
              "      <td>[1, 3, 4, 5, 6, 7, 9, 13, 16, 17, 18, 19, 21, ...</td>\n",
              "      <td>0</td>\n",
              "      <td>5</td>\n",
              "      <td>10</td>\n",
              "      <td>3</td>\n",
              "    </tr>\n",
              "    <tr>\n",
              "      <th>1</th>\n",
              "      <td>2107</td>\n",
              "      <td>[1, 2, 3, 5, 7, 8, 9, 12, 13, 16, 18, 20, 22, ...</td>\n",
              "      <td>4</td>\n",
              "      <td>8</td>\n",
              "      <td>7</td>\n",
              "      <td>3</td>\n",
              "    </tr>\n",
              "    <tr>\n",
              "      <th>2</th>\n",
              "      <td>2106</td>\n",
              "      <td>[2, 4, 6, 7, 8, 9, 11, 12, 13, 14, 15, 16, 17,...</td>\n",
              "      <td>1</td>\n",
              "      <td>8</td>\n",
              "      <td>7</td>\n",
              "      <td>3</td>\n",
              "    </tr>\n",
              "    <tr>\n",
              "      <th>3</th>\n",
              "      <td>2105</td>\n",
              "      <td>[3, 7, 8, 9, 10, 13, 14, 16, 17, 18, 19, 20, 2...</td>\n",
              "      <td>3</td>\n",
              "      <td>7</td>\n",
              "      <td>8</td>\n",
              "      <td>3</td>\n",
              "    </tr>\n",
              "    <tr>\n",
              "      <th>4</th>\n",
              "      <td>2104</td>\n",
              "      <td>[2, 4, 5, 6, 8, 9, 10, 11, 12, 14, 17, 18, 20,...</td>\n",
              "      <td>7</td>\n",
              "      <td>9</td>\n",
              "      <td>6</td>\n",
              "      <td>3</td>\n",
              "    </tr>\n",
              "  </tbody>\n",
              "</table>\n",
              "</div>"
            ],
            "text/plain": [
              "   Concurso                                            Numeros  ...  Impares  Primos\n",
              "0      2108  [1, 3, 4, 5, 6, 7, 9, 13, 16, 17, 18, 19, 21, ...  ...       10       3\n",
              "1      2107  [1, 2, 3, 5, 7, 8, 9, 12, 13, 16, 18, 20, 22, ...  ...        7       3\n",
              "2      2106  [2, 4, 6, 7, 8, 9, 11, 12, 13, 14, 15, 16, 17,...  ...        7       3\n",
              "3      2105  [3, 7, 8, 9, 10, 13, 14, 16, 17, 18, 19, 20, 2...  ...        8       3\n",
              "4      2104  [2, 4, 5, 6, 8, 9, 10, 11, 12, 14, 17, 18, 20,...  ...        6       3\n",
              "\n",
              "[5 rows x 6 columns]"
            ]
          },
          "metadata": {
            "tags": []
          },
          "execution_count": 647
        }
      ]
    },
    {
      "cell_type": "code",
      "metadata": {
        "id": "ha_4KNe2MJmK",
        "colab": {
          "base_uri": "https://localhost:8080/"
        },
        "outputId": "c562c3a5-2b49-45e7-d733-529eaca07a9f"
      },
      "source": [
        "cont =0\n",
        "ehPrimo = 0\n",
        "for i in range(len(df.Numeros)):\n",
        "  ehPrimo=0\n",
        "  for j in range(0,15):\n",
        "    cont =0\n",
        "    if df.Numeros[i][j]%2!=0:\n",
        "      for k in range(1,df.Numeros[i][j]+1):\n",
        "        if df.Numeros[i][j] % k == 0:\n",
        "          #print(df.Numeros[i][j], \"foi divisível por\", k)\n",
        "          cont += 1\n",
        "      if cont == 2:\n",
        "        ehPrimo +=1\n",
        "  df.Primos[i] = ehPrimo"
      ],
      "execution_count": null,
      "outputs": [
        {
          "output_type": "stream",
          "text": [
            "/usr/local/lib/python3.6/dist-packages/ipykernel_launcher.py:14: SettingWithCopyWarning: \n",
            "A value is trying to be set on a copy of a slice from a DataFrame\n",
            "\n",
            "See the caveats in the documentation: https://pandas.pydata.org/pandas-docs/stable/user_guide/indexing.html#returning-a-view-versus-a-copy\n",
            "  \n"
          ],
          "name": "stderr"
        }
      ]
    },
    {
      "cell_type": "code",
      "metadata": {
        "colab": {
          "base_uri": "https://localhost:8080/",
          "height": 204
        },
        "id": "iARoAQQmRaEj",
        "outputId": "ca150370-92fc-491e-b27a-21a0303220b1"
      },
      "source": [
        "df.head()"
      ],
      "execution_count": null,
      "outputs": [
        {
          "output_type": "execute_result",
          "data": {
            "text/html": [
              "<div>\n",
              "<style scoped>\n",
              "    .dataframe tbody tr th:only-of-type {\n",
              "        vertical-align: middle;\n",
              "    }\n",
              "\n",
              "    .dataframe tbody tr th {\n",
              "        vertical-align: top;\n",
              "    }\n",
              "\n",
              "    .dataframe thead th {\n",
              "        text-align: right;\n",
              "    }\n",
              "</style>\n",
              "<table border=\"1\" class=\"dataframe\">\n",
              "  <thead>\n",
              "    <tr style=\"text-align: right;\">\n",
              "      <th></th>\n",
              "      <th>Concurso</th>\n",
              "      <th>Numeros</th>\n",
              "      <th>Ganhadores</th>\n",
              "      <th>Pares</th>\n",
              "      <th>Impares</th>\n",
              "      <th>Primos</th>\n",
              "    </tr>\n",
              "  </thead>\n",
              "  <tbody>\n",
              "    <tr>\n",
              "      <th>0</th>\n",
              "      <td>2108</td>\n",
              "      <td>[1, 3, 4, 5, 6, 7, 9, 13, 16, 17, 18, 19, 21, ...</td>\n",
              "      <td>0</td>\n",
              "      <td>5</td>\n",
              "      <td>10</td>\n",
              "      <td>6</td>\n",
              "    </tr>\n",
              "    <tr>\n",
              "      <th>1</th>\n",
              "      <td>2107</td>\n",
              "      <td>[1, 2, 3, 5, 7, 8, 9, 12, 13, 16, 18, 20, 22, ...</td>\n",
              "      <td>4</td>\n",
              "      <td>8</td>\n",
              "      <td>7</td>\n",
              "      <td>4</td>\n",
              "    </tr>\n",
              "    <tr>\n",
              "      <th>2</th>\n",
              "      <td>2106</td>\n",
              "      <td>[2, 4, 6, 7, 8, 9, 11, 12, 13, 14, 15, 16, 17,...</td>\n",
              "      <td>1</td>\n",
              "      <td>8</td>\n",
              "      <td>7</td>\n",
              "      <td>4</td>\n",
              "    </tr>\n",
              "    <tr>\n",
              "      <th>3</th>\n",
              "      <td>2105</td>\n",
              "      <td>[3, 7, 8, 9, 10, 13, 14, 16, 17, 18, 19, 20, 2...</td>\n",
              "      <td>3</td>\n",
              "      <td>7</td>\n",
              "      <td>8</td>\n",
              "      <td>5</td>\n",
              "    </tr>\n",
              "    <tr>\n",
              "      <th>4</th>\n",
              "      <td>2104</td>\n",
              "      <td>[2, 4, 5, 6, 8, 9, 10, 11, 12, 14, 17, 18, 20,...</td>\n",
              "      <td>7</td>\n",
              "      <td>9</td>\n",
              "      <td>6</td>\n",
              "      <td>4</td>\n",
              "    </tr>\n",
              "  </tbody>\n",
              "</table>\n",
              "</div>"
            ],
            "text/plain": [
              "   Concurso                                            Numeros  ...  Impares  Primos\n",
              "0      2108  [1, 3, 4, 5, 6, 7, 9, 13, 16, 17, 18, 19, 21, ...  ...       10       6\n",
              "1      2107  [1, 2, 3, 5, 7, 8, 9, 12, 13, 16, 18, 20, 22, ...  ...        7       4\n",
              "2      2106  [2, 4, 6, 7, 8, 9, 11, 12, 13, 14, 15, 16, 17,...  ...        7       4\n",
              "3      2105  [3, 7, 8, 9, 10, 13, 14, 16, 17, 18, 19, 20, 2...  ...        8       5\n",
              "4      2104  [2, 4, 5, 6, 8, 9, 10, 11, 12, 14, 17, 18, 20,...  ...        6       4\n",
              "\n",
              "[5 rows x 6 columns]"
            ]
          },
          "metadata": {
            "tags": []
          },
          "execution_count": 649
        }
      ]
    },
    {
      "cell_type": "code",
      "metadata": {
        "colab": {
          "base_uri": "https://localhost:8080/"
        },
        "id": "nIfMdOVRWuSL",
        "outputId": "791aa7a0-27c9-4a15-f60b-08cee70fbaf4"
      },
      "source": [
        "df.Numeros[0]"
      ],
      "execution_count": null,
      "outputs": [
        {
          "output_type": "execute_result",
          "data": {
            "text/plain": [
              "[1, 3, 4, 5, 6, 7, 9, 13, 16, 17, 18, 19, 21, 24, 25]"
            ]
          },
          "metadata": {
            "tags": []
          },
          "execution_count": 650
        }
      ]
    },
    {
      "cell_type": "code",
      "metadata": {
        "id": "ABsWYDTFdPWj"
      },
      "source": [
        "number = df.Numeros[0][1]"
      ],
      "execution_count": null,
      "outputs": []
    },
    {
      "cell_type": "code",
      "metadata": {
        "id": "lly-TODKKWw4"
      },
      "source": [
        "df['Seq1'] = 0\n",
        "df['Seq2'] = 2\n",
        "df['Seq3'] = 3\n",
        "df['Seq4'] = 4\n",
        "df['Seq5'] = 5\n",
        "df['SeqMore'] = 6 "
      ],
      "execution_count": null,
      "outputs": []
    },
    {
      "cell_type": "code",
      "metadata": {
        "id": "fOx0bX_omRKL",
        "colab": {
          "base_uri": "https://localhost:8080/"
        },
        "outputId": "cf738b9e-8f8f-41be-935d-6c12653ac143"
      },
      "source": [
        "sequencia = 0\n",
        "for i in range(len(df.Numeros)):\n",
        "  seq0=0\n",
        "  seq1=0\n",
        "  seq2=0\n",
        "  seq3=0\n",
        "  seq4=0\n",
        "  seq5=0\n",
        "  seqMore=0\n",
        "  number = df.Numeros[i][0]\n",
        "  for j in range(0, 15):\n",
        "    if j == 14:\n",
        "      j = 13\n",
        "    if number == df.Numeros[i][j+1]-1:\n",
        "      number = df.Numeros[i][j+1]\n",
        "      sequencia +=1\n",
        "    else:\n",
        "      number = df.Numeros[i][j+1]\n",
        "      if sequencia == 0:\n",
        "        seq0 +=1\n",
        "      else:\n",
        "        if sequencia == 1:\n",
        "         seq2 += 1\n",
        "         #print(\"sequencia de 2\")\n",
        "        if sequencia == 2:\n",
        "          seq3 += 1\n",
        "          #print(\"sequencia de 3\")\n",
        "        if sequencia == 3:\n",
        "          seq4 += 1\n",
        "          #print(\"sequencia de 4\")\n",
        "        if sequencia == 4:\n",
        "          seq5 += 1\n",
        "          #print(\"sequencia de 5\")\n",
        "        if sequencia == 5:\n",
        "          seqMore += 1\n",
        "          #print(\"sequencia de mais\")\n",
        "        sequencia = 0\n",
        "  df['Seq1'][i] = seq0\n",
        "  df['Seq2'][i] = seq2\n",
        "  df['Seq3'][i] = seq3\n",
        "  df['Seq4'][i] = seq4\n",
        "  df['Seq5'][i] = seq5\n",
        "  df['SeqMore'][i] = seqMore\n",
        "  #print(seq0, seq2, seq3, seq4, seq5, seqMore)\n",
        "  #if i == 3:\n",
        "  #  break\n"
      ],
      "execution_count": null,
      "outputs": [
        {
          "output_type": "stream",
          "text": [
            "/usr/local/lib/python3.6/dist-packages/ipykernel_launcher.py:38: SettingWithCopyWarning: \n",
            "A value is trying to be set on a copy of a slice from a DataFrame\n",
            "\n",
            "See the caveats in the documentation: https://pandas.pydata.org/pandas-docs/stable/user_guide/indexing.html#returning-a-view-versus-a-copy\n",
            "/usr/local/lib/python3.6/dist-packages/ipykernel_launcher.py:39: SettingWithCopyWarning: \n",
            "A value is trying to be set on a copy of a slice from a DataFrame\n",
            "\n",
            "See the caveats in the documentation: https://pandas.pydata.org/pandas-docs/stable/user_guide/indexing.html#returning-a-view-versus-a-copy\n",
            "/usr/local/lib/python3.6/dist-packages/ipykernel_launcher.py:40: SettingWithCopyWarning: \n",
            "A value is trying to be set on a copy of a slice from a DataFrame\n",
            "\n",
            "See the caveats in the documentation: https://pandas.pydata.org/pandas-docs/stable/user_guide/indexing.html#returning-a-view-versus-a-copy\n",
            "/usr/local/lib/python3.6/dist-packages/ipykernel_launcher.py:41: SettingWithCopyWarning: \n",
            "A value is trying to be set on a copy of a slice from a DataFrame\n",
            "\n",
            "See the caveats in the documentation: https://pandas.pydata.org/pandas-docs/stable/user_guide/indexing.html#returning-a-view-versus-a-copy\n",
            "/usr/local/lib/python3.6/dist-packages/ipykernel_launcher.py:42: SettingWithCopyWarning: \n",
            "A value is trying to be set on a copy of a slice from a DataFrame\n",
            "\n",
            "See the caveats in the documentation: https://pandas.pydata.org/pandas-docs/stable/user_guide/indexing.html#returning-a-view-versus-a-copy\n",
            "/usr/local/lib/python3.6/dist-packages/ipykernel_launcher.py:43: SettingWithCopyWarning: \n",
            "A value is trying to be set on a copy of a slice from a DataFrame\n",
            "\n",
            "See the caveats in the documentation: https://pandas.pydata.org/pandas-docs/stable/user_guide/indexing.html#returning-a-view-versus-a-copy\n"
          ],
          "name": "stderr"
        }
      ]
    },
    {
      "cell_type": "code",
      "metadata": {
        "colab": {
          "base_uri": "https://localhost:8080/"
        },
        "id": "Cl4B0kRezKdT",
        "outputId": "f86fe635-3984-43a2-b193-ed39dc8141d9"
      },
      "source": [
        "df.Numeros[0]"
      ],
      "execution_count": null,
      "outputs": [
        {
          "output_type": "execute_result",
          "data": {
            "text/plain": [
              "[1, 3, 4, 5, 6, 7, 9, 13, 16, 17, 18, 19, 21, 24, 25]"
            ]
          },
          "metadata": {
            "tags": []
          },
          "execution_count": 654
        }
      ]
    },
    {
      "cell_type": "code",
      "metadata": {
        "colab": {
          "base_uri": "https://localhost:8080/"
        },
        "id": "i8221AOAJcG_",
        "outputId": "443bad29-aa1f-46d9-9072-ca3cd20de4e0"
      },
      "source": [
        "df.Numeros[1]"
      ],
      "execution_count": null,
      "outputs": [
        {
          "output_type": "execute_result",
          "data": {
            "text/plain": [
              "[1, 2, 3, 5, 7, 8, 9, 12, 13, 16, 18, 20, 22, 24, 25]"
            ]
          },
          "metadata": {
            "tags": []
          },
          "execution_count": 655
        }
      ]
    },
    {
      "cell_type": "code",
      "metadata": {
        "colab": {
          "base_uri": "https://localhost:8080/",
          "height": 255
        },
        "id": "E8biSdxlK4Qr",
        "outputId": "94ffbd1f-2305-4ae2-bba8-6fb1e4abb46a"
      },
      "source": [
        "df.head()"
      ],
      "execution_count": null,
      "outputs": [
        {
          "output_type": "execute_result",
          "data": {
            "text/html": [
              "<div>\n",
              "<style scoped>\n",
              "    .dataframe tbody tr th:only-of-type {\n",
              "        vertical-align: middle;\n",
              "    }\n",
              "\n",
              "    .dataframe tbody tr th {\n",
              "        vertical-align: top;\n",
              "    }\n",
              "\n",
              "    .dataframe thead th {\n",
              "        text-align: right;\n",
              "    }\n",
              "</style>\n",
              "<table border=\"1\" class=\"dataframe\">\n",
              "  <thead>\n",
              "    <tr style=\"text-align: right;\">\n",
              "      <th></th>\n",
              "      <th>Concurso</th>\n",
              "      <th>Numeros</th>\n",
              "      <th>Ganhadores</th>\n",
              "      <th>Pares</th>\n",
              "      <th>Impares</th>\n",
              "      <th>Primos</th>\n",
              "      <th>Seq1</th>\n",
              "      <th>Seq2</th>\n",
              "      <th>Seq3</th>\n",
              "      <th>Seq4</th>\n",
              "      <th>Seq5</th>\n",
              "      <th>SeqMore</th>\n",
              "    </tr>\n",
              "  </thead>\n",
              "  <tbody>\n",
              "    <tr>\n",
              "      <th>0</th>\n",
              "      <td>2108</td>\n",
              "      <td>[1, 3, 4, 5, 6, 7, 9, 13, 16, 17, 18, 19, 21, ...</td>\n",
              "      <td>0</td>\n",
              "      <td>5</td>\n",
              "      <td>10</td>\n",
              "      <td>6</td>\n",
              "      <td>4</td>\n",
              "      <td>1</td>\n",
              "      <td>0</td>\n",
              "      <td>1</td>\n",
              "      <td>1</td>\n",
              "      <td>0</td>\n",
              "    </tr>\n",
              "    <tr>\n",
              "      <th>1</th>\n",
              "      <td>2107</td>\n",
              "      <td>[1, 2, 3, 5, 7, 8, 9, 12, 13, 16, 18, 20, 22, ...</td>\n",
              "      <td>4</td>\n",
              "      <td>8</td>\n",
              "      <td>7</td>\n",
              "      <td>4</td>\n",
              "      <td>5</td>\n",
              "      <td>2</td>\n",
              "      <td>2</td>\n",
              "      <td>0</td>\n",
              "      <td>0</td>\n",
              "      <td>0</td>\n",
              "    </tr>\n",
              "    <tr>\n",
              "      <th>2</th>\n",
              "      <td>2106</td>\n",
              "      <td>[2, 4, 6, 7, 8, 9, 11, 12, 13, 14, 15, 16, 17,...</td>\n",
              "      <td>1</td>\n",
              "      <td>8</td>\n",
              "      <td>7</td>\n",
              "      <td>4</td>\n",
              "      <td>4</td>\n",
              "      <td>0</td>\n",
              "      <td>0</td>\n",
              "      <td>1</td>\n",
              "      <td>0</td>\n",
              "      <td>0</td>\n",
              "    </tr>\n",
              "    <tr>\n",
              "      <th>3</th>\n",
              "      <td>2105</td>\n",
              "      <td>[3, 7, 8, 9, 10, 13, 14, 16, 17, 18, 19, 20, 2...</td>\n",
              "      <td>3</td>\n",
              "      <td>7</td>\n",
              "      <td>8</td>\n",
              "      <td>5</td>\n",
              "      <td>2</td>\n",
              "      <td>1</td>\n",
              "      <td>0</td>\n",
              "      <td>1</td>\n",
              "      <td>0</td>\n",
              "      <td>0</td>\n",
              "    </tr>\n",
              "    <tr>\n",
              "      <th>4</th>\n",
              "      <td>2104</td>\n",
              "      <td>[2, 4, 5, 6, 8, 9, 10, 11, 12, 14, 17, 18, 20,...</td>\n",
              "      <td>7</td>\n",
              "      <td>9</td>\n",
              "      <td>6</td>\n",
              "      <td>4</td>\n",
              "      <td>3</td>\n",
              "      <td>2</td>\n",
              "      <td>1</td>\n",
              "      <td>0</td>\n",
              "      <td>1</td>\n",
              "      <td>0</td>\n",
              "    </tr>\n",
              "  </tbody>\n",
              "</table>\n",
              "</div>"
            ],
            "text/plain": [
              "   Concurso                                            Numeros  ...  Seq5  SeqMore\n",
              "0      2108  [1, 3, 4, 5, 6, 7, 9, 13, 16, 17, 18, 19, 21, ...  ...     1        0\n",
              "1      2107  [1, 2, 3, 5, 7, 8, 9, 12, 13, 16, 18, 20, 22, ...  ...     0        0\n",
              "2      2106  [2, 4, 6, 7, 8, 9, 11, 12, 13, 14, 15, 16, 17,...  ...     0        0\n",
              "3      2105  [3, 7, 8, 9, 10, 13, 14, 16, 17, 18, 19, 20, 2...  ...     0        0\n",
              "4      2104  [2, 4, 5, 6, 8, 9, 10, 11, 12, 14, 17, 18, 20,...  ...     1        0\n",
              "\n",
              "[5 rows x 12 columns]"
            ]
          },
          "metadata": {
            "tags": []
          },
          "execution_count": 656
        }
      ]
    },
    {
      "cell_type": "code",
      "metadata": {
        "colab": {
          "base_uri": "https://localhost:8080/"
        },
        "id": "MJlYObrgNcCH",
        "outputId": "30becda7-a5da-400e-87e8-704e163b0659"
      },
      "source": [
        "df.loc[df.Impares == 10].sum()"
      ],
      "execution_count": null,
      "outputs": [
        {
          "output_type": "execute_result",
          "data": {
            "text/plain": [
              "Concurso                                                 143628\n",
              "Numeros       [1, 3, 4, 5, 6, 7, 9, 13, 16, 17, 18, 19, 21, ...\n",
              "Ganhadores                                                  606\n",
              "Pares                                                       715\n",
              "Impares                                                    1430\n",
              "Primos                                                      884\n",
              "Seq1                                                        528\n",
              "Seq2                                                        178\n",
              "Seq3                                                        170\n",
              "Seq4                                                         52\n",
              "Seq5                                                         68\n",
              "SeqMore                                                      14\n",
              "dtype: object"
            ]
          },
          "metadata": {
            "tags": []
          },
          "execution_count": 657
        }
      ]
    },
    {
      "cell_type": "markdown",
      "metadata": {
        "id": "BilWuekspGh4"
      },
      "source": [
        "ACRESCENTANDO JOGOS QUE AINDA NÃO FORAM SORTEADOS, COM NÚMEROS ALEATÓRIOS"
      ]
    },
    {
      "cell_type": "code",
      "metadata": {
        "id": "VTLoQxkepOW0"
      },
      "source": [
        "from random import sample"
      ],
      "execution_count": null,
      "outputs": []
    },
    {
      "cell_type": "code",
      "metadata": {
        "id": "-xVC5Udcp4u6"
      },
      "source": [
        "num_aleat = sorted(sample(range(1,26),15))"
      ],
      "execution_count": null,
      "outputs": []
    },
    {
      "cell_type": "code",
      "metadata": {
        "id": "Qx575rayrV7l"
      },
      "source": [
        "#num_aleat = np.array(num_aleat)"
      ],
      "execution_count": null,
      "outputs": []
    },
    {
      "cell_type": "code",
      "metadata": {
        "colab": {
          "base_uri": "https://localhost:8080/"
        },
        "id": "RIN-i8eEswJK",
        "outputId": "0f5bfa8b-6e0c-4ef2-a58d-ebeda3306c9e"
      },
      "source": [
        "num_aleat"
      ],
      "execution_count": null,
      "outputs": [
        {
          "output_type": "execute_result",
          "data": {
            "text/plain": [
              "[3, 5, 6, 8, 11, 12, 13, 15, 16, 17, 18, 19, 20, 21, 23]"
            ]
          },
          "metadata": {
            "tags": []
          },
          "execution_count": 661
        }
      ]
    },
    {
      "cell_type": "code",
      "metadata": {
        "colab": {
          "base_uri": "https://localhost:8080/"
        },
        "id": "eQvUeSrPqDZR",
        "outputId": "a4f41459-1932-4321-eed0-1ed75aaf8ed0"
      },
      "source": [
        "type(num_aleat)"
      ],
      "execution_count": null,
      "outputs": [
        {
          "output_type": "execute_result",
          "data": {
            "text/plain": [
              "list"
            ]
          },
          "metadata": {
            "tags": []
          },
          "execution_count": 662
        }
      ]
    },
    {
      "cell_type": "code",
      "metadata": {
        "colab": {
          "base_uri": "https://localhost:8080/"
        },
        "id": "ZLm8O8Djra0O",
        "outputId": "407e794b-50a6-445f-e67c-ffac9afab88c"
      },
      "source": [
        "df.Numeros[0]"
      ],
      "execution_count": null,
      "outputs": [
        {
          "output_type": "execute_result",
          "data": {
            "text/plain": [
              "[1, 3, 4, 5, 6, 7, 9, 13, 16, 17, 18, 19, 21, 24, 25]"
            ]
          },
          "metadata": {
            "tags": []
          },
          "execution_count": 663
        }
      ]
    },
    {
      "cell_type": "code",
      "metadata": {
        "colab": {
          "base_uri": "https://localhost:8080/"
        },
        "id": "UFqg1j-IrIK-",
        "outputId": "dd2cc473-7666-49da-96c2-fef416e13b1f"
      },
      "source": [
        "type(df.Numeros[0])"
      ],
      "execution_count": null,
      "outputs": [
        {
          "output_type": "execute_result",
          "data": {
            "text/plain": [
              "list"
            ]
          },
          "metadata": {
            "tags": []
          },
          "execution_count": 664
        }
      ]
    },
    {
      "cell_type": "code",
      "metadata": {
        "id": "QM1WQV48vnUn"
      },
      "source": [
        "def pares(num_aleat):\n",
        "  contPares=0\n",
        "  for i in range(len(num_aleat)):\n",
        "      if num_aleat[i]%2==0:\n",
        "        contPares +=1\n",
        "  return contPares"
      ],
      "execution_count": null,
      "outputs": []
    },
    {
      "cell_type": "code",
      "metadata": {
        "colab": {
          "base_uri": "https://localhost:8080/"
        },
        "id": "8kRy1u2jwabo",
        "outputId": "e1d2d7b6-c2f7-4e17-8584-be7e75baeb31"
      },
      "source": [
        "pars = pares(num_aleat)\n",
        "pars"
      ],
      "execution_count": null,
      "outputs": [
        {
          "output_type": "execute_result",
          "data": {
            "text/plain": [
              "6"
            ]
          },
          "metadata": {
            "tags": []
          },
          "execution_count": 666
        }
      ]
    },
    {
      "cell_type": "code",
      "metadata": {
        "id": "N6Pb7Mmjlhbv"
      },
      "source": [
        "def primo(num_aleat):\n",
        "  cont =0\n",
        "  ehPrimo = 0\n",
        "  for i in range(len(df.Numeros)):\n",
        "    ehPrimo=0\n",
        "    for j in range(0,15):\n",
        "      cont =0\n",
        "      if num_aleat[i]%2!=0:\n",
        "        for k in range(1,num_aleat[i]+1):\n",
        "          if num_aleat[i] % k == 0:\n",
        "            #print(df.Numeros[i][j], \"foi divisível por\", k)\n",
        "            cont += 1\n",
        "        if cont == 2:\n",
        "          ehPrimo +=1\n",
        "    return ehPrimo"
      ],
      "execution_count": null,
      "outputs": []
    },
    {
      "cell_type": "code",
      "metadata": {
        "id": "4OfkbPLpfYRY"
      },
      "source": [
        "df_aleat = pd.DataFrame()"
      ],
      "execution_count": null,
      "outputs": []
    },
    {
      "cell_type": "code",
      "metadata": {
        "id": "XlZcX6mhqbp-"
      },
      "source": [
        "for p in range(int(len(df.Numeros)*0.25)):\n",
        "  num_aleat = sorted(sample(range(1,26),15))\n",
        "  condition = False\n",
        "  cont = 0\n",
        "\n",
        "  def pares(num_aleat):\n",
        "    contPares=0\n",
        "    for i in range(len(num_aleat)):\n",
        "        if num_aleat[i]%2==0:\n",
        "          contPares +=1\n",
        "    return contPares\n",
        "\n",
        "  def primo(num_aleat):\n",
        "    cont =0\n",
        "    ehPrimo = 0\n",
        "    for i in range(len(num_aleat)):\n",
        "      cont =0\n",
        "      if num_aleat[i]%2!=0:\n",
        "        for k in range(1,num_aleat[i]+1):\n",
        "          if num_aleat[i] % k == 0:\n",
        "            #print(df.Numeros[i][j], \"foi divisível por\", k)\n",
        "            cont += 1\n",
        "        if cont == 2:\n",
        "          ehPrimo +=1\n",
        "    ehPrimo = int(ehPrimo)\n",
        "    return ehPrimo\n",
        "\n",
        "  def sequencia(num_aleat):\n",
        "    sequencia = 0\n",
        "    seq0=0\n",
        "    seq1=0\n",
        "    seq2=0\n",
        "    seq3=0\n",
        "    seq4=0\n",
        "    seq5=0\n",
        "    seqMore=0\n",
        "    for i in range(len(num_aleat)):\n",
        "      number = num_aleat[i]\n",
        "      if i == 14:\n",
        "        i = 13\n",
        "      if number == num_aleat[i+1]-1:\n",
        "        number = num_aleat[i+1]\n",
        "        sequencia +=1\n",
        "      else:\n",
        "        number = num_aleat[i+1]\n",
        "        if sequencia == 0:\n",
        "          seq0 +=1\n",
        "        else:\n",
        "          if sequencia == 1:\n",
        "            seq2 += 1\n",
        "            #print(\"sequencia de 2\")\n",
        "          if sequencia == 2:\n",
        "            seq3 += 1\n",
        "              #print(\"sequencia de 3\")\n",
        "          if sequencia == 3:\n",
        "            seq4 += 1\n",
        "              #print(\"sequencia de 4\")\n",
        "          if sequencia == 4:\n",
        "            seq5 += 1\n",
        "              #print(\"sequencia de 5\")\n",
        "          if sequencia > 4:\n",
        "            seqMore += 1\n",
        "              #print(\"sequencia de mais\")\n",
        "          sequencia = 0\n",
        "    return seq0, seq2, seq3, seq4, seq5, seqMore\n",
        "\n",
        "  for i in range(len(df.Numeros)):\n",
        "    #print(df.Numeros[i], num_aleat)\n",
        "    if df.Numeros[i] != num_aleat:\n",
        "      condition = True\n",
        "      cont +=1\n",
        "  #print(cont)\n",
        "  if condition and cont == len(df.Numeros):\n",
        "    pares = pares(num_aleat)\n",
        "    impares = 15 - pares\n",
        "    primos = primo(num_aleat)\n",
        "    #print(primos)\n",
        "    seq0, seq2, seq3, seq4, seq5, seqMore = sequencia(num_aleat)\n",
        "    new_row = {'Concurso': 'Aleatorio', 'Numeros': [num_aleat], 'Ganhadores': 0, 'Primos': primos,\n",
        "                'Pares': pares, 'Impares': impares, 'Seq1': seq0, 'Seq2': seq2, 'Seq3': seq3, 'Seq4': seq4,\n",
        "                'Seq5': seq5, 'SeqMore': seqMore}\n",
        "    df_aleat = df_aleat.append(pd.DataFrame(new_row), ignore_index=True)\n",
        "    "
      ],
      "execution_count": null,
      "outputs": []
    },
    {
      "cell_type": "code",
      "metadata": {
        "colab": {
          "base_uri": "https://localhost:8080/",
          "height": 289
        },
        "id": "wlykGl4ut_LP",
        "outputId": "67a0b3b2-e683-4471-d905-309f7e64fcd0"
      },
      "source": [
        "df_aleat.head()"
      ],
      "execution_count": null,
      "outputs": [
        {
          "output_type": "execute_result",
          "data": {
            "text/html": [
              "<div>\n",
              "<style scoped>\n",
              "    .dataframe tbody tr th:only-of-type {\n",
              "        vertical-align: middle;\n",
              "    }\n",
              "\n",
              "    .dataframe tbody tr th {\n",
              "        vertical-align: top;\n",
              "    }\n",
              "\n",
              "    .dataframe thead th {\n",
              "        text-align: right;\n",
              "    }\n",
              "</style>\n",
              "<table border=\"1\" class=\"dataframe\">\n",
              "  <thead>\n",
              "    <tr style=\"text-align: right;\">\n",
              "      <th></th>\n",
              "      <th>Concurso</th>\n",
              "      <th>Numeros</th>\n",
              "      <th>Ganhadores</th>\n",
              "      <th>Primos</th>\n",
              "      <th>Pares</th>\n",
              "      <th>Impares</th>\n",
              "      <th>Seq1</th>\n",
              "      <th>Seq2</th>\n",
              "      <th>Seq3</th>\n",
              "      <th>Seq4</th>\n",
              "      <th>Seq5</th>\n",
              "      <th>SeqMore</th>\n",
              "    </tr>\n",
              "  </thead>\n",
              "  <tbody>\n",
              "    <tr>\n",
              "      <th>0</th>\n",
              "      <td>Aleatorio</td>\n",
              "      <td>[1, 3, 4, 7, 8, 9, 12, 14, 16, 19, 20, 21, 22,...</td>\n",
              "      <td>0</td>\n",
              "      <td>4</td>\n",
              "      <td>7</td>\n",
              "      <td>8</td>\n",
              "      <td>5</td>\n",
              "      <td>1</td>\n",
              "      <td>1</td>\n",
              "      <td>0</td>\n",
              "      <td>1</td>\n",
              "      <td>0</td>\n",
              "    </tr>\n",
              "    <tr>\n",
              "      <th>1</th>\n",
              "      <td>Aleatorio</td>\n",
              "      <td>[1, 2, 6, 7, 8, 9, 14, 15, 16, 17, 18, 19, 22,...</td>\n",
              "      <td>0</td>\n",
              "      <td>4</td>\n",
              "      <td>7</td>\n",
              "      <td>8</td>\n",
              "      <td>1</td>\n",
              "      <td>2</td>\n",
              "      <td>0</td>\n",
              "      <td>1</td>\n",
              "      <td>0</td>\n",
              "      <td>1</td>\n",
              "    </tr>\n",
              "    <tr>\n",
              "      <th>2</th>\n",
              "      <td>Aleatorio</td>\n",
              "      <td>[1, 2, 3, 5, 6, 8, 10, 11, 12, 14, 16, 19, 20,...</td>\n",
              "      <td>0</td>\n",
              "      <td>4</td>\n",
              "      <td>9</td>\n",
              "      <td>6</td>\n",
              "      <td>3</td>\n",
              "      <td>3</td>\n",
              "      <td>2</td>\n",
              "      <td>0</td>\n",
              "      <td>0</td>\n",
              "      <td>0</td>\n",
              "    </tr>\n",
              "    <tr>\n",
              "      <th>3</th>\n",
              "      <td>Aleatorio</td>\n",
              "      <td>[3, 4, 5, 6, 7, 10, 11, 12, 13, 16, 18, 20, 21...</td>\n",
              "      <td>0</td>\n",
              "      <td>6</td>\n",
              "      <td>8</td>\n",
              "      <td>7</td>\n",
              "      <td>2</td>\n",
              "      <td>2</td>\n",
              "      <td>0</td>\n",
              "      <td>1</td>\n",
              "      <td>1</td>\n",
              "      <td>0</td>\n",
              "    </tr>\n",
              "    <tr>\n",
              "      <th>4</th>\n",
              "      <td>Aleatorio</td>\n",
              "      <td>[1, 3, 6, 7, 8, 10, 12, 14, 15, 17, 19, 20, 21...</td>\n",
              "      <td>0</td>\n",
              "      <td>4</td>\n",
              "      <td>8</td>\n",
              "      <td>7</td>\n",
              "      <td>6</td>\n",
              "      <td>1</td>\n",
              "      <td>1</td>\n",
              "      <td>1</td>\n",
              "      <td>0</td>\n",
              "      <td>0</td>\n",
              "    </tr>\n",
              "  </tbody>\n",
              "</table>\n",
              "</div>"
            ],
            "text/plain": [
              "    Concurso                                            Numeros  ...  Seq5  SeqMore\n",
              "0  Aleatorio  [1, 3, 4, 7, 8, 9, 12, 14, 16, 19, 20, 21, 22,...  ...     1        0\n",
              "1  Aleatorio  [1, 2, 6, 7, 8, 9, 14, 15, 16, 17, 18, 19, 22,...  ...     0        1\n",
              "2  Aleatorio  [1, 2, 3, 5, 6, 8, 10, 11, 12, 14, 16, 19, 20,...  ...     0        0\n",
              "3  Aleatorio  [3, 4, 5, 6, 7, 10, 11, 12, 13, 16, 18, 20, 21...  ...     1        0\n",
              "4  Aleatorio  [1, 3, 6, 7, 8, 10, 12, 14, 15, 17, 19, 20, 21...  ...     0        0\n",
              "\n",
              "[5 rows x 12 columns]"
            ]
          },
          "metadata": {
            "tags": []
          },
          "execution_count": 670
        }
      ]
    },
    {
      "cell_type": "code",
      "metadata": {
        "colab": {
          "base_uri": "https://localhost:8080/"
        },
        "id": "0hZC_4DliEKd",
        "outputId": "b80778d7-b724-4e25-bb14-60999bb4b62d"
      },
      "source": [
        "df_aleat.shape"
      ],
      "execution_count": null,
      "outputs": [
        {
          "output_type": "execute_result",
          "data": {
            "text/plain": [
              "(526, 12)"
            ]
          },
          "metadata": {
            "tags": []
          },
          "execution_count": 671
        }
      ]
    },
    {
      "cell_type": "code",
      "metadata": {
        "colab": {
          "base_uri": "https://localhost:8080/"
        },
        "id": "PwZEVcJjzdMl",
        "outputId": "831292f0-bc8c-466e-a3cb-d522acbd0394"
      },
      "source": [
        "np.mean(df_aleat.Numeros[0])"
      ],
      "execution_count": null,
      "outputs": [
        {
          "output_type": "execute_result",
          "data": {
            "text/plain": [
              "13.6"
            ]
          },
          "metadata": {
            "tags": []
          },
          "execution_count": 672
        }
      ]
    },
    {
      "cell_type": "code",
      "metadata": {
        "colab": {
          "base_uri": "https://localhost:8080/"
        },
        "id": "k2OAylIKztoi",
        "outputId": "3e7fe7d9-9ea8-47dd-d3c9-2c6d62608f9a"
      },
      "source": [
        "np.mean(df_aleat.Numeros[8])"
      ],
      "execution_count": null,
      "outputs": [
        {
          "output_type": "execute_result",
          "data": {
            "text/plain": [
              "11.8"
            ]
          },
          "metadata": {
            "tags": []
          },
          "execution_count": 673
        }
      ]
    },
    {
      "cell_type": "code",
      "metadata": {
        "colab": {
          "base_uri": "https://localhost:8080/"
        },
        "id": "rnJTi7v7zy4J",
        "outputId": "399f7bce-6d69-4e93-cb72-0eaf791d2f29"
      },
      "source": [
        "np.mean(df.Numeros[705])"
      ],
      "execution_count": null,
      "outputs": [
        {
          "output_type": "execute_result",
          "data": {
            "text/plain": [
              "12.133333333333333"
            ]
          },
          "metadata": {
            "tags": []
          },
          "execution_count": 674
        }
      ]
    },
    {
      "cell_type": "code",
      "metadata": {
        "id": "SP5vtA1gN3kZ"
      },
      "source": [
        "df_X = df.append(df_aleat, ignore_index=True)"
      ],
      "execution_count": null,
      "outputs": []
    },
    {
      "cell_type": "code",
      "metadata": {
        "id": "PTsXrhELOBto",
        "colab": {
          "base_uri": "https://localhost:8080/",
          "height": 589
        },
        "outputId": "7a5d925d-98b9-467f-9048-3419554f7441"
      },
      "source": [
        "df_X"
      ],
      "execution_count": null,
      "outputs": [
        {
          "output_type": "execute_result",
          "data": {
            "text/html": [
              "<div>\n",
              "<style scoped>\n",
              "    .dataframe tbody tr th:only-of-type {\n",
              "        vertical-align: middle;\n",
              "    }\n",
              "\n",
              "    .dataframe tbody tr th {\n",
              "        vertical-align: top;\n",
              "    }\n",
              "\n",
              "    .dataframe thead th {\n",
              "        text-align: right;\n",
              "    }\n",
              "</style>\n",
              "<table border=\"1\" class=\"dataframe\">\n",
              "  <thead>\n",
              "    <tr style=\"text-align: right;\">\n",
              "      <th></th>\n",
              "      <th>Concurso</th>\n",
              "      <th>Numeros</th>\n",
              "      <th>Ganhadores</th>\n",
              "      <th>Pares</th>\n",
              "      <th>Impares</th>\n",
              "      <th>Primos</th>\n",
              "      <th>Seq1</th>\n",
              "      <th>Seq2</th>\n",
              "      <th>Seq3</th>\n",
              "      <th>Seq4</th>\n",
              "      <th>Seq5</th>\n",
              "      <th>SeqMore</th>\n",
              "    </tr>\n",
              "  </thead>\n",
              "  <tbody>\n",
              "    <tr>\n",
              "      <th>0</th>\n",
              "      <td>2108</td>\n",
              "      <td>[1, 3, 4, 5, 6, 7, 9, 13, 16, 17, 18, 19, 21, ...</td>\n",
              "      <td>0</td>\n",
              "      <td>5</td>\n",
              "      <td>10</td>\n",
              "      <td>6</td>\n",
              "      <td>4</td>\n",
              "      <td>1</td>\n",
              "      <td>0</td>\n",
              "      <td>1</td>\n",
              "      <td>1</td>\n",
              "      <td>0</td>\n",
              "    </tr>\n",
              "    <tr>\n",
              "      <th>1</th>\n",
              "      <td>2107</td>\n",
              "      <td>[1, 2, 3, 5, 7, 8, 9, 12, 13, 16, 18, 20, 22, ...</td>\n",
              "      <td>4</td>\n",
              "      <td>8</td>\n",
              "      <td>7</td>\n",
              "      <td>4</td>\n",
              "      <td>5</td>\n",
              "      <td>2</td>\n",
              "      <td>2</td>\n",
              "      <td>0</td>\n",
              "      <td>0</td>\n",
              "      <td>0</td>\n",
              "    </tr>\n",
              "    <tr>\n",
              "      <th>2</th>\n",
              "      <td>2106</td>\n",
              "      <td>[2, 4, 6, 7, 8, 9, 11, 12, 13, 14, 15, 16, 17,...</td>\n",
              "      <td>1</td>\n",
              "      <td>8</td>\n",
              "      <td>7</td>\n",
              "      <td>4</td>\n",
              "      <td>4</td>\n",
              "      <td>0</td>\n",
              "      <td>0</td>\n",
              "      <td>1</td>\n",
              "      <td>0</td>\n",
              "      <td>0</td>\n",
              "    </tr>\n",
              "    <tr>\n",
              "      <th>3</th>\n",
              "      <td>2105</td>\n",
              "      <td>[3, 7, 8, 9, 10, 13, 14, 16, 17, 18, 19, 20, 2...</td>\n",
              "      <td>3</td>\n",
              "      <td>7</td>\n",
              "      <td>8</td>\n",
              "      <td>5</td>\n",
              "      <td>2</td>\n",
              "      <td>1</td>\n",
              "      <td>0</td>\n",
              "      <td>1</td>\n",
              "      <td>0</td>\n",
              "      <td>0</td>\n",
              "    </tr>\n",
              "    <tr>\n",
              "      <th>4</th>\n",
              "      <td>2104</td>\n",
              "      <td>[2, 4, 5, 6, 8, 9, 10, 11, 12, 14, 17, 18, 20,...</td>\n",
              "      <td>7</td>\n",
              "      <td>9</td>\n",
              "      <td>6</td>\n",
              "      <td>4</td>\n",
              "      <td>3</td>\n",
              "      <td>2</td>\n",
              "      <td>1</td>\n",
              "      <td>0</td>\n",
              "      <td>1</td>\n",
              "      <td>0</td>\n",
              "    </tr>\n",
              "    <tr>\n",
              "      <th>...</th>\n",
              "      <td>...</td>\n",
              "      <td>...</td>\n",
              "      <td>...</td>\n",
              "      <td>...</td>\n",
              "      <td>...</td>\n",
              "      <td>...</td>\n",
              "      <td>...</td>\n",
              "      <td>...</td>\n",
              "      <td>...</td>\n",
              "      <td>...</td>\n",
              "      <td>...</td>\n",
              "      <td>...</td>\n",
              "    </tr>\n",
              "    <tr>\n",
              "      <th>2628</th>\n",
              "      <td>Aleatorio</td>\n",
              "      <td>[3, 5, 7, 8, 9, 11, 12, 13, 16, 17, 18, 19, 20...</td>\n",
              "      <td>0</td>\n",
              "      <td>5</td>\n",
              "      <td>10</td>\n",
              "      <td>7</td>\n",
              "      <td>3</td>\n",
              "      <td>0</td>\n",
              "      <td>2</td>\n",
              "      <td>0</td>\n",
              "      <td>0</td>\n",
              "      <td>1</td>\n",
              "    </tr>\n",
              "    <tr>\n",
              "      <th>2629</th>\n",
              "      <td>Aleatorio</td>\n",
              "      <td>[1, 2, 5, 9, 10, 12, 13, 15, 16, 17, 18, 19, 2...</td>\n",
              "      <td>0</td>\n",
              "      <td>7</td>\n",
              "      <td>8</td>\n",
              "      <td>5</td>\n",
              "      <td>1</td>\n",
              "      <td>4</td>\n",
              "      <td>0</td>\n",
              "      <td>0</td>\n",
              "      <td>0</td>\n",
              "      <td>1</td>\n",
              "    </tr>\n",
              "    <tr>\n",
              "      <th>2630</th>\n",
              "      <td>Aleatorio</td>\n",
              "      <td>[2, 3, 7, 8, 9, 12, 13, 14, 15, 16, 20, 21, 22...</td>\n",
              "      <td>0</td>\n",
              "      <td>8</td>\n",
              "      <td>7</td>\n",
              "      <td>4</td>\n",
              "      <td>0</td>\n",
              "      <td>1</td>\n",
              "      <td>1</td>\n",
              "      <td>0</td>\n",
              "      <td>2</td>\n",
              "      <td>0</td>\n",
              "    </tr>\n",
              "    <tr>\n",
              "      <th>2631</th>\n",
              "      <td>Aleatorio</td>\n",
              "      <td>[1, 3, 4, 6, 7, 8, 11, 13, 14, 16, 17, 19, 21,...</td>\n",
              "      <td>0</td>\n",
              "      <td>7</td>\n",
              "      <td>8</td>\n",
              "      <td>6</td>\n",
              "      <td>4</td>\n",
              "      <td>4</td>\n",
              "      <td>1</td>\n",
              "      <td>0</td>\n",
              "      <td>0</td>\n",
              "      <td>0</td>\n",
              "    </tr>\n",
              "    <tr>\n",
              "      <th>2632</th>\n",
              "      <td>Aleatorio</td>\n",
              "      <td>[1, 2, 4, 8, 10, 11, 12, 13, 14, 15, 18, 20, 2...</td>\n",
              "      <td>0</td>\n",
              "      <td>10</td>\n",
              "      <td>5</td>\n",
              "      <td>2</td>\n",
              "      <td>4</td>\n",
              "      <td>1</td>\n",
              "      <td>1</td>\n",
              "      <td>0</td>\n",
              "      <td>0</td>\n",
              "      <td>1</td>\n",
              "    </tr>\n",
              "  </tbody>\n",
              "</table>\n",
              "<p>2633 rows × 12 columns</p>\n",
              "</div>"
            ],
            "text/plain": [
              "       Concurso  ... SeqMore\n",
              "0          2108  ...       0\n",
              "1          2107  ...       0\n",
              "2          2106  ...       0\n",
              "3          2105  ...       0\n",
              "4          2104  ...       0\n",
              "...         ...  ...     ...\n",
              "2628  Aleatorio  ...       1\n",
              "2629  Aleatorio  ...       1\n",
              "2630  Aleatorio  ...       0\n",
              "2631  Aleatorio  ...       0\n",
              "2632  Aleatorio  ...       1\n",
              "\n",
              "[2633 rows x 12 columns]"
            ]
          },
          "metadata": {
            "tags": []
          },
          "execution_count": 676
        }
      ]
    },
    {
      "cell_type": "markdown",
      "metadata": {
        "id": "UUOjvkxAhrKe"
      },
      "source": [
        "# SELECIONANDO AS MELHORES CARACTERÍSTICAS"
      ]
    },
    {
      "cell_type": "code",
      "metadata": {
        "id": "Dr3pmX903A1_"
      },
      "source": [
        "n = pd.DataFrame(np.array(df_X.Numeros[0]).reshape(1,15), columns = ['num'+str(i).zfill(2) for i in range(1,16)])"
      ],
      "execution_count": null,
      "outputs": []
    },
    {
      "cell_type": "markdown",
      "metadata": {
        "id": "Sy7TFhhK9svw"
      },
      "source": [
        ""
      ]
    },
    {
      "cell_type": "code",
      "metadata": {
        "colab": {
          "base_uri": "https://localhost:8080/",
          "height": 80
        },
        "id": "FQ9-Uou43dJ9",
        "outputId": "486f47dc-2e6e-487f-92ce-942570b0bcc8"
      },
      "source": [
        "n"
      ],
      "execution_count": null,
      "outputs": [
        {
          "output_type": "execute_result",
          "data": {
            "text/html": [
              "<div>\n",
              "<style scoped>\n",
              "    .dataframe tbody tr th:only-of-type {\n",
              "        vertical-align: middle;\n",
              "    }\n",
              "\n",
              "    .dataframe tbody tr th {\n",
              "        vertical-align: top;\n",
              "    }\n",
              "\n",
              "    .dataframe thead th {\n",
              "        text-align: right;\n",
              "    }\n",
              "</style>\n",
              "<table border=\"1\" class=\"dataframe\">\n",
              "  <thead>\n",
              "    <tr style=\"text-align: right;\">\n",
              "      <th></th>\n",
              "      <th>num01</th>\n",
              "      <th>num02</th>\n",
              "      <th>num03</th>\n",
              "      <th>num04</th>\n",
              "      <th>num05</th>\n",
              "      <th>num06</th>\n",
              "      <th>num07</th>\n",
              "      <th>num08</th>\n",
              "      <th>num09</th>\n",
              "      <th>num10</th>\n",
              "      <th>num11</th>\n",
              "      <th>num12</th>\n",
              "      <th>num13</th>\n",
              "      <th>num14</th>\n",
              "      <th>num15</th>\n",
              "    </tr>\n",
              "  </thead>\n",
              "  <tbody>\n",
              "    <tr>\n",
              "      <th>0</th>\n",
              "      <td>1</td>\n",
              "      <td>3</td>\n",
              "      <td>4</td>\n",
              "      <td>5</td>\n",
              "      <td>6</td>\n",
              "      <td>7</td>\n",
              "      <td>9</td>\n",
              "      <td>13</td>\n",
              "      <td>16</td>\n",
              "      <td>17</td>\n",
              "      <td>18</td>\n",
              "      <td>19</td>\n",
              "      <td>21</td>\n",
              "      <td>24</td>\n",
              "      <td>25</td>\n",
              "    </tr>\n",
              "  </tbody>\n",
              "</table>\n",
              "</div>"
            ],
            "text/plain": [
              "   num01  num02  num03  num04  num05  ...  num11  num12  num13  num14  num15\n",
              "0      1      3      4      5      6  ...     18     19     21     24     25\n",
              "\n",
              "[1 rows x 15 columns]"
            ]
          },
          "metadata": {
            "tags": []
          },
          "execution_count": 678
        }
      ]
    },
    {
      "cell_type": "code",
      "metadata": {
        "id": "P8VHLocgOjvR"
      },
      "source": [
        "nums = pd.DataFrame()"
      ],
      "execution_count": null,
      "outputs": []
    },
    {
      "cell_type": "code",
      "metadata": {
        "id": "0Fh0wbvM7MJS"
      },
      "source": [
        "for i in range(len(df_X.Numeros)):\n",
        "  nums = nums.append(pd.Series(df_X.Numeros[i]), ignore_index=True)"
      ],
      "execution_count": null,
      "outputs": []
    },
    {
      "cell_type": "code",
      "metadata": {
        "id": "i4sIiJjp-nRN"
      },
      "source": [
        "nums.columns = ['num'+str(i).zfill(2) for i in range(1,16)]"
      ],
      "execution_count": null,
      "outputs": []
    },
    {
      "cell_type": "code",
      "metadata": {
        "colab": {
          "base_uri": "https://localhost:8080/",
          "height": 419
        },
        "id": "50Luaf7zCAeX",
        "outputId": "4bea4ea7-8f19-488a-f988-ad1173829f5f"
      },
      "source": [
        "nums"
      ],
      "execution_count": null,
      "outputs": [
        {
          "output_type": "execute_result",
          "data": {
            "text/html": [
              "<div>\n",
              "<style scoped>\n",
              "    .dataframe tbody tr th:only-of-type {\n",
              "        vertical-align: middle;\n",
              "    }\n",
              "\n",
              "    .dataframe tbody tr th {\n",
              "        vertical-align: top;\n",
              "    }\n",
              "\n",
              "    .dataframe thead th {\n",
              "        text-align: right;\n",
              "    }\n",
              "</style>\n",
              "<table border=\"1\" class=\"dataframe\">\n",
              "  <thead>\n",
              "    <tr style=\"text-align: right;\">\n",
              "      <th></th>\n",
              "      <th>num01</th>\n",
              "      <th>num02</th>\n",
              "      <th>num03</th>\n",
              "      <th>num04</th>\n",
              "      <th>num05</th>\n",
              "      <th>num06</th>\n",
              "      <th>num07</th>\n",
              "      <th>num08</th>\n",
              "      <th>num09</th>\n",
              "      <th>num10</th>\n",
              "      <th>num11</th>\n",
              "      <th>num12</th>\n",
              "      <th>num13</th>\n",
              "      <th>num14</th>\n",
              "      <th>num15</th>\n",
              "    </tr>\n",
              "  </thead>\n",
              "  <tbody>\n",
              "    <tr>\n",
              "      <th>0</th>\n",
              "      <td>1.0</td>\n",
              "      <td>3.0</td>\n",
              "      <td>4.0</td>\n",
              "      <td>5.0</td>\n",
              "      <td>6.0</td>\n",
              "      <td>7.0</td>\n",
              "      <td>9.0</td>\n",
              "      <td>13.0</td>\n",
              "      <td>16.0</td>\n",
              "      <td>17.0</td>\n",
              "      <td>18.0</td>\n",
              "      <td>19.0</td>\n",
              "      <td>21.0</td>\n",
              "      <td>24.0</td>\n",
              "      <td>25.0</td>\n",
              "    </tr>\n",
              "    <tr>\n",
              "      <th>1</th>\n",
              "      <td>1.0</td>\n",
              "      <td>2.0</td>\n",
              "      <td>3.0</td>\n",
              "      <td>5.0</td>\n",
              "      <td>7.0</td>\n",
              "      <td>8.0</td>\n",
              "      <td>9.0</td>\n",
              "      <td>12.0</td>\n",
              "      <td>13.0</td>\n",
              "      <td>16.0</td>\n",
              "      <td>18.0</td>\n",
              "      <td>20.0</td>\n",
              "      <td>22.0</td>\n",
              "      <td>24.0</td>\n",
              "      <td>25.0</td>\n",
              "    </tr>\n",
              "    <tr>\n",
              "      <th>2</th>\n",
              "      <td>2.0</td>\n",
              "      <td>4.0</td>\n",
              "      <td>6.0</td>\n",
              "      <td>7.0</td>\n",
              "      <td>8.0</td>\n",
              "      <td>9.0</td>\n",
              "      <td>11.0</td>\n",
              "      <td>12.0</td>\n",
              "      <td>13.0</td>\n",
              "      <td>14.0</td>\n",
              "      <td>15.0</td>\n",
              "      <td>16.0</td>\n",
              "      <td>17.0</td>\n",
              "      <td>21.0</td>\n",
              "      <td>24.0</td>\n",
              "    </tr>\n",
              "    <tr>\n",
              "      <th>3</th>\n",
              "      <td>3.0</td>\n",
              "      <td>7.0</td>\n",
              "      <td>8.0</td>\n",
              "      <td>9.0</td>\n",
              "      <td>10.0</td>\n",
              "      <td>13.0</td>\n",
              "      <td>14.0</td>\n",
              "      <td>16.0</td>\n",
              "      <td>17.0</td>\n",
              "      <td>18.0</td>\n",
              "      <td>19.0</td>\n",
              "      <td>20.0</td>\n",
              "      <td>21.0</td>\n",
              "      <td>22.0</td>\n",
              "      <td>25.0</td>\n",
              "    </tr>\n",
              "    <tr>\n",
              "      <th>4</th>\n",
              "      <td>2.0</td>\n",
              "      <td>4.0</td>\n",
              "      <td>5.0</td>\n",
              "      <td>6.0</td>\n",
              "      <td>8.0</td>\n",
              "      <td>9.0</td>\n",
              "      <td>10.0</td>\n",
              "      <td>11.0</td>\n",
              "      <td>12.0</td>\n",
              "      <td>14.0</td>\n",
              "      <td>17.0</td>\n",
              "      <td>18.0</td>\n",
              "      <td>20.0</td>\n",
              "      <td>21.0</td>\n",
              "      <td>23.0</td>\n",
              "    </tr>\n",
              "    <tr>\n",
              "      <th>...</th>\n",
              "      <td>...</td>\n",
              "      <td>...</td>\n",
              "      <td>...</td>\n",
              "      <td>...</td>\n",
              "      <td>...</td>\n",
              "      <td>...</td>\n",
              "      <td>...</td>\n",
              "      <td>...</td>\n",
              "      <td>...</td>\n",
              "      <td>...</td>\n",
              "      <td>...</td>\n",
              "      <td>...</td>\n",
              "      <td>...</td>\n",
              "      <td>...</td>\n",
              "      <td>...</td>\n",
              "    </tr>\n",
              "    <tr>\n",
              "      <th>2628</th>\n",
              "      <td>3.0</td>\n",
              "      <td>5.0</td>\n",
              "      <td>7.0</td>\n",
              "      <td>8.0</td>\n",
              "      <td>9.0</td>\n",
              "      <td>11.0</td>\n",
              "      <td>12.0</td>\n",
              "      <td>13.0</td>\n",
              "      <td>16.0</td>\n",
              "      <td>17.0</td>\n",
              "      <td>18.0</td>\n",
              "      <td>19.0</td>\n",
              "      <td>20.0</td>\n",
              "      <td>21.0</td>\n",
              "      <td>25.0</td>\n",
              "    </tr>\n",
              "    <tr>\n",
              "      <th>2629</th>\n",
              "      <td>1.0</td>\n",
              "      <td>2.0</td>\n",
              "      <td>5.0</td>\n",
              "      <td>9.0</td>\n",
              "      <td>10.0</td>\n",
              "      <td>12.0</td>\n",
              "      <td>13.0</td>\n",
              "      <td>15.0</td>\n",
              "      <td>16.0</td>\n",
              "      <td>17.0</td>\n",
              "      <td>18.0</td>\n",
              "      <td>19.0</td>\n",
              "      <td>20.0</td>\n",
              "      <td>23.0</td>\n",
              "      <td>24.0</td>\n",
              "    </tr>\n",
              "    <tr>\n",
              "      <th>2630</th>\n",
              "      <td>2.0</td>\n",
              "      <td>3.0</td>\n",
              "      <td>7.0</td>\n",
              "      <td>8.0</td>\n",
              "      <td>9.0</td>\n",
              "      <td>12.0</td>\n",
              "      <td>13.0</td>\n",
              "      <td>14.0</td>\n",
              "      <td>15.0</td>\n",
              "      <td>16.0</td>\n",
              "      <td>20.0</td>\n",
              "      <td>21.0</td>\n",
              "      <td>22.0</td>\n",
              "      <td>23.0</td>\n",
              "      <td>24.0</td>\n",
              "    </tr>\n",
              "    <tr>\n",
              "      <th>2631</th>\n",
              "      <td>1.0</td>\n",
              "      <td>3.0</td>\n",
              "      <td>4.0</td>\n",
              "      <td>6.0</td>\n",
              "      <td>7.0</td>\n",
              "      <td>8.0</td>\n",
              "      <td>11.0</td>\n",
              "      <td>13.0</td>\n",
              "      <td>14.0</td>\n",
              "      <td>16.0</td>\n",
              "      <td>17.0</td>\n",
              "      <td>19.0</td>\n",
              "      <td>21.0</td>\n",
              "      <td>22.0</td>\n",
              "      <td>24.0</td>\n",
              "    </tr>\n",
              "    <tr>\n",
              "      <th>2632</th>\n",
              "      <td>1.0</td>\n",
              "      <td>2.0</td>\n",
              "      <td>4.0</td>\n",
              "      <td>8.0</td>\n",
              "      <td>10.0</td>\n",
              "      <td>11.0</td>\n",
              "      <td>12.0</td>\n",
              "      <td>13.0</td>\n",
              "      <td>14.0</td>\n",
              "      <td>15.0</td>\n",
              "      <td>18.0</td>\n",
              "      <td>20.0</td>\n",
              "      <td>21.0</td>\n",
              "      <td>22.0</td>\n",
              "      <td>24.0</td>\n",
              "    </tr>\n",
              "  </tbody>\n",
              "</table>\n",
              "<p>2633 rows × 15 columns</p>\n",
              "</div>"
            ],
            "text/plain": [
              "      num01  num02  num03  num04  num05  ...  num11  num12  num13  num14  num15\n",
              "0       1.0    3.0    4.0    5.0    6.0  ...   18.0   19.0   21.0   24.0   25.0\n",
              "1       1.0    2.0    3.0    5.0    7.0  ...   18.0   20.0   22.0   24.0   25.0\n",
              "2       2.0    4.0    6.0    7.0    8.0  ...   15.0   16.0   17.0   21.0   24.0\n",
              "3       3.0    7.0    8.0    9.0   10.0  ...   19.0   20.0   21.0   22.0   25.0\n",
              "4       2.0    4.0    5.0    6.0    8.0  ...   17.0   18.0   20.0   21.0   23.0\n",
              "...     ...    ...    ...    ...    ...  ...    ...    ...    ...    ...    ...\n",
              "2628    3.0    5.0    7.0    8.0    9.0  ...   18.0   19.0   20.0   21.0   25.0\n",
              "2629    1.0    2.0    5.0    9.0   10.0  ...   18.0   19.0   20.0   23.0   24.0\n",
              "2630    2.0    3.0    7.0    8.0    9.0  ...   20.0   21.0   22.0   23.0   24.0\n",
              "2631    1.0    3.0    4.0    6.0    7.0  ...   17.0   19.0   21.0   22.0   24.0\n",
              "2632    1.0    2.0    4.0    8.0   10.0  ...   18.0   20.0   21.0   22.0   24.0\n",
              "\n",
              "[2633 rows x 15 columns]"
            ]
          },
          "metadata": {
            "tags": []
          },
          "execution_count": 682
        }
      ]
    },
    {
      "cell_type": "code",
      "metadata": {
        "colab": {
          "base_uri": "https://localhost:8080/",
          "height": 255
        },
        "id": "eMePy5IyXCFV",
        "outputId": "7dfa80c9-4c4c-4216-ea60-cc1ce0984954"
      },
      "source": [
        "df.head()"
      ],
      "execution_count": null,
      "outputs": [
        {
          "output_type": "execute_result",
          "data": {
            "text/html": [
              "<div>\n",
              "<style scoped>\n",
              "    .dataframe tbody tr th:only-of-type {\n",
              "        vertical-align: middle;\n",
              "    }\n",
              "\n",
              "    .dataframe tbody tr th {\n",
              "        vertical-align: top;\n",
              "    }\n",
              "\n",
              "    .dataframe thead th {\n",
              "        text-align: right;\n",
              "    }\n",
              "</style>\n",
              "<table border=\"1\" class=\"dataframe\">\n",
              "  <thead>\n",
              "    <tr style=\"text-align: right;\">\n",
              "      <th></th>\n",
              "      <th>Concurso</th>\n",
              "      <th>Numeros</th>\n",
              "      <th>Ganhadores</th>\n",
              "      <th>Pares</th>\n",
              "      <th>Impares</th>\n",
              "      <th>Primos</th>\n",
              "      <th>Seq1</th>\n",
              "      <th>Seq2</th>\n",
              "      <th>Seq3</th>\n",
              "      <th>Seq4</th>\n",
              "      <th>Seq5</th>\n",
              "      <th>SeqMore</th>\n",
              "    </tr>\n",
              "  </thead>\n",
              "  <tbody>\n",
              "    <tr>\n",
              "      <th>0</th>\n",
              "      <td>2108</td>\n",
              "      <td>[1, 3, 4, 5, 6, 7, 9, 13, 16, 17, 18, 19, 21, ...</td>\n",
              "      <td>0</td>\n",
              "      <td>5</td>\n",
              "      <td>10</td>\n",
              "      <td>6</td>\n",
              "      <td>4</td>\n",
              "      <td>1</td>\n",
              "      <td>0</td>\n",
              "      <td>1</td>\n",
              "      <td>1</td>\n",
              "      <td>0</td>\n",
              "    </tr>\n",
              "    <tr>\n",
              "      <th>1</th>\n",
              "      <td>2107</td>\n",
              "      <td>[1, 2, 3, 5, 7, 8, 9, 12, 13, 16, 18, 20, 22, ...</td>\n",
              "      <td>4</td>\n",
              "      <td>8</td>\n",
              "      <td>7</td>\n",
              "      <td>4</td>\n",
              "      <td>5</td>\n",
              "      <td>2</td>\n",
              "      <td>2</td>\n",
              "      <td>0</td>\n",
              "      <td>0</td>\n",
              "      <td>0</td>\n",
              "    </tr>\n",
              "    <tr>\n",
              "      <th>2</th>\n",
              "      <td>2106</td>\n",
              "      <td>[2, 4, 6, 7, 8, 9, 11, 12, 13, 14, 15, 16, 17,...</td>\n",
              "      <td>1</td>\n",
              "      <td>8</td>\n",
              "      <td>7</td>\n",
              "      <td>4</td>\n",
              "      <td>4</td>\n",
              "      <td>0</td>\n",
              "      <td>0</td>\n",
              "      <td>1</td>\n",
              "      <td>0</td>\n",
              "      <td>0</td>\n",
              "    </tr>\n",
              "    <tr>\n",
              "      <th>3</th>\n",
              "      <td>2105</td>\n",
              "      <td>[3, 7, 8, 9, 10, 13, 14, 16, 17, 18, 19, 20, 2...</td>\n",
              "      <td>3</td>\n",
              "      <td>7</td>\n",
              "      <td>8</td>\n",
              "      <td>5</td>\n",
              "      <td>2</td>\n",
              "      <td>1</td>\n",
              "      <td>0</td>\n",
              "      <td>1</td>\n",
              "      <td>0</td>\n",
              "      <td>0</td>\n",
              "    </tr>\n",
              "    <tr>\n",
              "      <th>4</th>\n",
              "      <td>2104</td>\n",
              "      <td>[2, 4, 5, 6, 8, 9, 10, 11, 12, 14, 17, 18, 20,...</td>\n",
              "      <td>7</td>\n",
              "      <td>9</td>\n",
              "      <td>6</td>\n",
              "      <td>4</td>\n",
              "      <td>3</td>\n",
              "      <td>2</td>\n",
              "      <td>1</td>\n",
              "      <td>0</td>\n",
              "      <td>1</td>\n",
              "      <td>0</td>\n",
              "    </tr>\n",
              "  </tbody>\n",
              "</table>\n",
              "</div>"
            ],
            "text/plain": [
              "   Concurso                                            Numeros  ...  Seq5  SeqMore\n",
              "0      2108  [1, 3, 4, 5, 6, 7, 9, 13, 16, 17, 18, 19, 21, ...  ...     1        0\n",
              "1      2107  [1, 2, 3, 5, 7, 8, 9, 12, 13, 16, 18, 20, 22, ...  ...     0        0\n",
              "2      2106  [2, 4, 6, 7, 8, 9, 11, 12, 13, 14, 15, 16, 17,...  ...     0        0\n",
              "3      2105  [3, 7, 8, 9, 10, 13, 14, 16, 17, 18, 19, 20, 2...  ...     0        0\n",
              "4      2104  [2, 4, 5, 6, 8, 9, 10, 11, 12, 14, 17, 18, 20,...  ...     1        0\n",
              "\n",
              "[5 rows x 12 columns]"
            ]
          },
          "metadata": {
            "tags": []
          },
          "execution_count": 683
        }
      ]
    },
    {
      "cell_type": "code",
      "metadata": {
        "id": "nl3bTKF1CN8v",
        "colab": {
          "base_uri": "https://localhost:8080/",
          "height": 52
        },
        "outputId": "58432bce-8d28-418b-b454-7a3abcb52a81"
      },
      "source": [
        "'''for indexRename in range(1,len(df_end.columns)+1):\n",
        "  df_end.rename(columns={indexRename+11: 'num'+str(indexRename).zfill(2) }, inplace=True)'''"
      ],
      "execution_count": null,
      "outputs": [
        {
          "output_type": "execute_result",
          "data": {
            "application/vnd.google.colaboratory.intrinsic+json": {
              "type": "string"
            },
            "text/plain": [
              "\"for indexRename in range(1,len(df_end.columns)+1):\\n  df_end.rename(columns={indexRename+11: 'num'+str(indexRename).zfill(2) }, inplace=True)\""
            ]
          },
          "metadata": {
            "tags": []
          },
          "execution_count": 686
        }
      ]
    },
    {
      "cell_type": "code",
      "metadata": {
        "id": "YcbQS1MxhtcM"
      },
      "source": [
        "from sklearn.feature_selection import SelectKBest\n",
        "from sklearn.feature_selection import f_classif, mutual_info_classif  "
      ],
      "execution_count": null,
      "outputs": []
    },
    {
      "cell_type": "markdown",
      "metadata": {
        "id": "zqi-2Si3yku3"
      },
      "source": [
        "# MIN MAX SCALER"
      ]
    },
    {
      "cell_type": "code",
      "metadata": {
        "id": "io6muM_fymhM"
      },
      "source": [
        "from sklearn.preprocessing import MinMaxScaler"
      ],
      "execution_count": null,
      "outputs": []
    },
    {
      "cell_type": "code",
      "metadata": {
        "id": "Hn_GvK7Cyov3"
      },
      "source": [
        "scaler = MinMaxScaler()"
      ],
      "execution_count": null,
      "outputs": []
    },
    {
      "cell_type": "code",
      "metadata": {
        "id": "9LZOmckEKmPu"
      },
      "source": [
        "X = df_end.iloc[:,2:-1]"
      ],
      "execution_count": null,
      "outputs": []
    },
    {
      "cell_type": "code",
      "metadata": {
        "id": "GNhXGM-3yqY_"
      },
      "source": [
        "X = scaler.fit_transform(X)"
      ],
      "execution_count": null,
      "outputs": []
    },
    {
      "cell_type": "code",
      "metadata": {
        "id": "DpRODoVMy1WY"
      },
      "source": [
        "f_classif = SelectKBest(score_func = f_classif, k = 4)"
      ],
      "execution_count": null,
      "outputs": []
    },
    {
      "cell_type": "code",
      "metadata": {
        "id": "sdcuzQPuMQ69"
      },
      "source": [
        "fit = f_classif.fit(X,y) #  QUANDO NÃO TEM UMA DEPENDÊNCIA LINEAR ENTRE AS VARIÁVEIS"
      ],
      "execution_count": null,
      "outputs": []
    },
    {
      "cell_type": "markdown",
      "metadata": {
        "id": "Vy_qFn_PYlcE"
      },
      "source": [
        "# ------------------OUTRO CONINUAÇÃO MAIS CERTO ------\n"
      ]
    },
    {
      "cell_type": "code",
      "metadata": {
        "id": "PBj_iaZR9keM"
      },
      "source": [
        "from sklearn.feature_selection import SelectKBest\n",
        "from sklearn.feature_selection import f_classif, mutual_info_classif  "
      ],
      "execution_count": null,
      "outputs": []
    },
    {
      "cell_type": "code",
      "metadata": {
        "id": "q9tWMpN5YoLo"
      },
      "source": [
        "y = df_X.Ganhadores"
      ],
      "execution_count": null,
      "outputs": []
    },
    {
      "cell_type": "code",
      "metadata": {
        "id": "Vq0WGuzrYxtt"
      },
      "source": [
        "df_X"
      ],
      "execution_count": null,
      "outputs": []
    },
    {
      "cell_type": "code",
      "metadata": {
        "id": "JOm2GVXbaFE9"
      },
      "source": [
        "#n = pd.DataFrame(np.array(df_X.Numeros[0]).reshape(1,15), columns = ['num'+str(i).zfill(2) for i in range(1,16)])\n",
        "n = pd.DataFrame(np.array(df_X.Numeros[0]).reshape(1,15))"
      ],
      "execution_count": null,
      "outputs": []
    },
    {
      "cell_type": "code",
      "metadata": {
        "id": "zN_VnfYya8Nr"
      },
      "source": [
        "#n = n.append(pd.Series(df_X.Numeros[1]), ignore_index=True)"
      ],
      "execution_count": null,
      "outputs": []
    },
    {
      "cell_type": "code",
      "metadata": {
        "id": "9QZIxLCZdg1f",
        "colab": {
          "base_uri": "https://localhost:8080/",
          "height": 80
        },
        "outputId": "dd83ec65-299d-42da-91cf-7fa561a2e6ee"
      },
      "source": [
        "n"
      ],
      "execution_count": null,
      "outputs": [
        {
          "output_type": "execute_result",
          "data": {
            "text/html": [
              "<div>\n",
              "<style scoped>\n",
              "    .dataframe tbody tr th:only-of-type {\n",
              "        vertical-align: middle;\n",
              "    }\n",
              "\n",
              "    .dataframe tbody tr th {\n",
              "        vertical-align: top;\n",
              "    }\n",
              "\n",
              "    .dataframe thead th {\n",
              "        text-align: right;\n",
              "    }\n",
              "</style>\n",
              "<table border=\"1\" class=\"dataframe\">\n",
              "  <thead>\n",
              "    <tr style=\"text-align: right;\">\n",
              "      <th></th>\n",
              "      <th>0</th>\n",
              "      <th>1</th>\n",
              "      <th>2</th>\n",
              "      <th>3</th>\n",
              "      <th>4</th>\n",
              "      <th>5</th>\n",
              "      <th>6</th>\n",
              "      <th>7</th>\n",
              "      <th>8</th>\n",
              "      <th>9</th>\n",
              "      <th>10</th>\n",
              "      <th>11</th>\n",
              "      <th>12</th>\n",
              "      <th>13</th>\n",
              "      <th>14</th>\n",
              "    </tr>\n",
              "  </thead>\n",
              "  <tbody>\n",
              "    <tr>\n",
              "      <th>0</th>\n",
              "      <td>1</td>\n",
              "      <td>3</td>\n",
              "      <td>4</td>\n",
              "      <td>5</td>\n",
              "      <td>6</td>\n",
              "      <td>7</td>\n",
              "      <td>9</td>\n",
              "      <td>13</td>\n",
              "      <td>16</td>\n",
              "      <td>17</td>\n",
              "      <td>18</td>\n",
              "      <td>19</td>\n",
              "      <td>21</td>\n",
              "      <td>24</td>\n",
              "      <td>25</td>\n",
              "    </tr>\n",
              "  </tbody>\n",
              "</table>\n",
              "</div>"
            ],
            "text/plain": [
              "   0   1   2   3   4   5   6   7   8   9   10  11  12  13  14\n",
              "0   1   3   4   5   6   7   9  13  16  17  18  19  21  24  25"
            ]
          },
          "metadata": {
            "tags": []
          },
          "execution_count": 693
        }
      ]
    },
    {
      "cell_type": "code",
      "metadata": {
        "id": "tbwBtCHhwLhx"
      },
      "source": [
        "#n = n.append(pd.Series(df_X.Numeros[2]), ignore_index=True)"
      ],
      "execution_count": null,
      "outputs": []
    },
    {
      "cell_type": "code",
      "metadata": {
        "id": "W_xsiYnbzCY6"
      },
      "source": [
        "for i in range(df_X.shape[0]):\n",
        "  n = n.append(pd.Series(df_X.Numeros[i]), ignore_index=True)"
      ],
      "execution_count": null,
      "outputs": []
    },
    {
      "cell_type": "code",
      "metadata": {
        "id": "TNEivTa23YjY"
      },
      "source": [
        "n"
      ],
      "execution_count": null,
      "outputs": []
    },
    {
      "cell_type": "code",
      "metadata": {
        "id": "KwQD6dpg4Hug"
      },
      "source": [
        "n = n.drop([0])"
      ],
      "execution_count": null,
      "outputs": []
    },
    {
      "cell_type": "code",
      "metadata": {
        "id": "8sJffM7_y3h5"
      },
      "source": [
        "n.columns = ['num'+str(i).zfill(2) for i in range(1,16)]"
      ],
      "execution_count": null,
      "outputs": []
    },
    {
      "cell_type": "code",
      "metadata": {
        "id": "VrtBI8p2zUya"
      },
      "source": [
        "n['indice'] = [x for x in range(df_X.shape[0])]"
      ],
      "execution_count": null,
      "outputs": []
    },
    {
      "cell_type": "code",
      "metadata": {
        "id": "xGZf_PfL1asa"
      },
      "source": [
        "x=1\n",
        "df_X['indice'] = [x for x in range(df_X.shape[0])]"
      ],
      "execution_count": null,
      "outputs": []
    },
    {
      "cell_type": "code",
      "metadata": {
        "id": "9CDbLEEuzzip"
      },
      "source": [
        "df_X.shape[0]"
      ],
      "execution_count": null,
      "outputs": []
    },
    {
      "cell_type": "code",
      "metadata": {
        "id": "Lo28TxAN1YA5"
      },
      "source": [
        "n"
      ],
      "execution_count": null,
      "outputs": []
    },
    {
      "cell_type": "code",
      "metadata": {
        "id": "vs-hQghG2SnX"
      },
      "source": [
        "df_X"
      ],
      "execution_count": null,
      "outputs": []
    },
    {
      "cell_type": "code",
      "metadata": {
        "id": "pV4r4yGY1LxR"
      },
      "source": [
        "df_f = pd.merge(df_X, n, how='inner', on='indice')"
      ],
      "execution_count": null,
      "outputs": []
    },
    {
      "cell_type": "code",
      "metadata": {
        "id": "PMOgbaSw0YmJ"
      },
      "source": [
        "df_f"
      ],
      "execution_count": null,
      "outputs": []
    },
    {
      "cell_type": "code",
      "metadata": {
        "id": "7pyA786o0nMi"
      },
      "source": [
        "X = df_f.drop(columns=['Concurso', 'Numeros'])"
      ],
      "execution_count": null,
      "outputs": []
    },
    {
      "cell_type": "code",
      "metadata": {
        "id": "A6AY2cGm0qcP"
      },
      "source": [
        "X"
      ],
      "execution_count": null,
      "outputs": []
    },
    {
      "cell_type": "code",
      "metadata": {
        "id": "_6RgwSA5DhAU"
      },
      "source": [
        "X.Ganhadores.dtype"
      ],
      "execution_count": null,
      "outputs": []
    },
    {
      "cell_type": "code",
      "metadata": {
        "id": "dR0WGkMzD86r"
      },
      "source": [
        "X['Ganhador'] = 0"
      ],
      "execution_count": null,
      "outputs": []
    },
    {
      "cell_type": "code",
      "metadata": {
        "id": "iqhO7klTEAC9"
      },
      "source": [
        "X"
      ],
      "execution_count": null,
      "outputs": []
    },
    {
      "cell_type": "code",
      "metadata": {
        "id": "-Xc1cMrODFea"
      },
      "source": [
        "for i in range(len(X.Ganhadores)):\n",
        "  if X.Ganhadores[i] > 0:\n",
        "    X.Ganhador[i]=1"
      ],
      "execution_count": null,
      "outputs": []
    },
    {
      "cell_type": "code",
      "metadata": {
        "id": "nVFhY5NTFDOK"
      },
      "source": [
        "X"
      ],
      "execution_count": null,
      "outputs": []
    },
    {
      "cell_type": "markdown",
      "metadata": {
        "id": "LryeEFER6Vtr"
      },
      "source": [
        "### ---------SKLEARN"
      ]
    },
    {
      "cell_type": "code",
      "metadata": {
        "id": "rwZLJB-e6mqT"
      },
      "source": [
        "y = df_f['Ganhadores']\n",
        "y_class = X['Ganhador']"
      ],
      "execution_count": null,
      "outputs": []
    },
    {
      "cell_type": "code",
      "metadata": {
        "id": "Pj-nbTGA7CjN"
      },
      "source": [
        "X_train = df_f.drop(columns=['Ganhadores', 'Concurso', 'indice', 'Numeros'])"
      ],
      "execution_count": null,
      "outputs": []
    },
    {
      "cell_type": "code",
      "metadata": {
        "id": "53H2m0557TMb"
      },
      "source": [
        "X_train"
      ],
      "execution_count": null,
      "outputs": []
    },
    {
      "cell_type": "code",
      "metadata": {
        "id": "_FBV83NR6YMc"
      },
      "source": [
        "from sklearn.feature_selection import SelectKBest\n",
        "from sklearn.feature_selection import f_classif, mutual_info_classif  "
      ],
      "execution_count": null,
      "outputs": []
    },
    {
      "cell_type": "code",
      "metadata": {
        "id": "P3Lr50kl6i2j"
      },
      "source": [
        "f_classif = SelectKBest(score_func = f_classif, k = 4) #f_classif = TESTA A VARIÁVEL COM A CLASSE, SE HÁ DEPENDÊNCIA -> REGRESSÃO LINEAR\n"
      ],
      "execution_count": null,
      "outputs": []
    },
    {
      "cell_type": "code",
      "metadata": {
        "id": "8o4SCRN76jWs"
      },
      "source": [
        "fit = f_classif.fit(X_train,y)"
      ],
      "execution_count": null,
      "outputs": []
    },
    {
      "cell_type": "code",
      "metadata": {
        "id": "GnYS9CvC6wuV"
      },
      "source": [
        "features = fit.transform(X_train) #"
      ],
      "execution_count": null,
      "outputs": []
    },
    {
      "cell_type": "code",
      "metadata": {
        "id": "qUX4IpmV6yv7"
      },
      "source": [
        "print(features)"
      ],
      "execution_count": null,
      "outputs": []
    },
    {
      "cell_type": "code",
      "metadata": {
        "colab": {
          "base_uri": "https://localhost:8080/"
        },
        "id": "bdAvKBPD62Em",
        "outputId": "3de56566-60d0-40f1-92c8-f5dc8bef32e7"
      },
      "source": [
        "#descobrindo quais são as 4 colunas que tem melhores classificação\n",
        "cols = fit.get_support(indices=True) #pega o índice do dataframe que tem as melhores características selecionadas\n",
        "df.iloc[:,cols]\n",
        "cols"
      ],
      "execution_count": null,
      "outputs": [
        {
          "output_type": "execute_result",
          "data": {
            "text/plain": [
              "array([0, 1, 3, 4])"
            ]
          },
          "metadata": {
            "tags": []
          },
          "execution_count": 765
        }
      ]
    },
    {
      "cell_type": "code",
      "metadata": {
        "id": "Q9rtrR7J8HNS"
      },
      "source": [
        "df_f.iloc[:, cols[2]]"
      ],
      "execution_count": null,
      "outputs": []
    },
    {
      "cell_type": "code",
      "metadata": {
        "id": "Ch6aMVHf9tnB"
      },
      "source": [
        "names = [X_train.columns[col] for col in range(len(cols))]"
      ],
      "execution_count": null,
      "outputs": []
    },
    {
      "cell_type": "code",
      "metadata": {
        "colab": {
          "base_uri": "https://localhost:8080/"
        },
        "id": "3VoIjcA2-JLG",
        "outputId": "443c71a4-479a-4418-d97d-b9144469c21f"
      },
      "source": [
        "names"
      ],
      "execution_count": null,
      "outputs": [
        {
          "output_type": "execute_result",
          "data": {
            "text/plain": [
              "['Pares', 'Impares', 'Primos', 'Seq1']"
            ]
          },
          "metadata": {
            "tags": []
          },
          "execution_count": 768
        }
      ]
    },
    {
      "cell_type": "code",
      "metadata": {
        "id": "24twDYCW62Rn"
      },
      "source": [
        "import matplotlib.pyplot as plt\n",
        "import seaborn as sns"
      ],
      "execution_count": null,
      "outputs": []
    },
    {
      "cell_type": "code",
      "metadata": {
        "colab": {
          "base_uri": "https://localhost:8080/",
          "height": 478
        },
        "id": "xpnsGrmS7q0G",
        "outputId": "c879e8cb-1724-4b52-e1f4-8e5390854ea8"
      },
      "source": [
        "plt.figure(figsize=(10, 7))\n",
        "sns.heatmap(X_train.corr(),\n",
        "            annot = True,\n",
        "            fmt = '.2f',\n",
        "            cmap='Blues')\n",
        "plt.title('Correlação entre variáveis do dataset')\n",
        "plt.show()"
      ],
      "execution_count": null,
      "outputs": [
        {
          "output_type": "display_data",
          "data": {
            "image/png": "[encoded data removed]",
            "text/plain": [
              "<Figure size 720x504 with 2 Axes>"
            ]
          },
          "metadata": {
            "tags": [],
            "needs_background": "light"
          }
        }
      ]
    },
    {
      "cell_type": "code",
      "metadata": {
        "id": "IaVM-YpYBD43"
      },
      "source": [
        "from sklearn.model_selection import train_test_split\n",
        "from sklearn.neighbors import KNeighborsClassifier\n",
        "\n",
        "previsores_treinamento, previsores_teste, classe_treinamento, classe_teste = train_test_split(X_train, y_class, test_size=0.15, random_state=0)\n",
        "\n",
        "\n",
        "classificador = KNeighborsClassifier(n_neighbors=5, metric='minkowski', p=2)\n",
        "classificador.fit(previsores_treinamento, classe_treinamento)\n",
        "previsoes = classificador.predict(previsores_teste)"
      ],
      "execution_count": null,
      "outputs": []
    },
    {
      "cell_type": "code",
      "metadata": {
        "id": "LU31oXUFBL_2"
      },
      "source": [
        "from sklearn.metrics import confusion_matrix, accuracy_score\n",
        "precisao = accuracy_score(classe_teste, previsoes)\n",
        "matriz = confusion_matrix(classe_teste, previsoes)"
      ],
      "execution_count": null,
      "outputs": []
    },
    {
      "cell_type": "code",
      "metadata": {
        "colab": {
          "base_uri": "https://localhost:8080/"
        },
        "id": "tPdeulBqBP7M",
        "outputId": "2d9b36c5-831b-4c69-9228-f2d7dce56a8e"
      },
      "source": [
        "precisao"
      ],
      "execution_count": null,
      "outputs": [
        {
          "output_type": "execute_result",
          "data": {
            "text/plain": [
              "0.6835443037974683"
            ]
          },
          "metadata": {
            "tags": []
          },
          "execution_count": 773
        }
      ]
    },
    {
      "cell_type": "code",
      "metadata": {
        "id": "KfY70kwqBRNx",
        "colab": {
          "base_uri": "https://localhost:8080/"
        },
        "outputId": "99254204-0e89-4a1d-e3fe-0baf1991e5b6"
      },
      "source": [
        "matriz"
      ],
      "execution_count": null,
      "outputs": [
        {
          "output_type": "execute_result",
          "data": {
            "text/plain": [
              "array([[ 16,  90],\n",
              "       [ 35, 254]])"
            ]
          },
          "metadata": {
            "tags": []
          },
          "execution_count": 774
        }
      ]
    },
    {
      "cell_type": "code",
      "metadata": {
        "colab": {
          "base_uri": "https://localhost:8080/"
        },
        "id": "IkRsY8WMBUHl",
        "outputId": "70db29a3-3c1f-4646-b659-b642a39680e1"
      },
      "source": [
        "import collections\n",
        "collections.Counter(classe_teste)"
      ],
      "execution_count": null,
      "outputs": [
        {
          "output_type": "execute_result",
          "data": {
            "text/plain": [
              "Counter({0: 106, 1: 289})"
            ]
          },
          "metadata": {
            "tags": []
          },
          "execution_count": 775
        }
      ]
    },
    {
      "cell_type": "markdown",
      "metadata": {
        "id": "_Q6cCUa9Beyl"
      },
      "source": [
        "# REDE NEURAL"
      ]
    },
    {
      "cell_type": "code",
      "metadata": {
        "id": "C9QUPcA3BgIp"
      },
      "source": [
        "from sklearn.preprocessing import StandardScaler\n",
        "scaler = StandardScaler()\n",
        "X_train = scaler.fit_transform(X_train)\n",
        "\n",
        "from sklearn.model_selection import train_test_split\n",
        "previsores_treinamento, previsores_teste, classe_treinamento, classe_teste = train_test_split(X_train, y_class, test_size=0.30, random_state=0)\n",
        "\n",
        "from sklearn.neural_network import MLPClassifier\n",
        "classificador = MLPClassifier(verbose = True, max_iter=1000, tol=0.00001)\n",
        "#print(classificador.out_activation)\n",
        "classificador.fit(previsores_treinamento, classe_treinamento)\n",
        "previsoes = classificador.predict(previsores_teste)\n"
      ],
      "execution_count": null,
      "outputs": []
    },
    {
      "cell_type": "code",
      "metadata": {
        "id": "pyaJlD1_f7MM"
      },
      "source": [
        "previsores_teste"
      ],
      "execution_count": null,
      "outputs": []
    },
    {
      "cell_type": "code",
      "metadata": {
        "id": "_1ToaH_0e5sa"
      },
      "source": [
        "previsoes"
      ],
      "execution_count": null,
      "outputs": []
    },
    {
      "cell_type": "code",
      "metadata": {
        "id": "pQsil59xBtt-"
      },
      "source": [
        "from sklearn.metrics import confusion_matrix, accuracy_score\n",
        "precisao = accuracy_score(classe_teste, previsoes)\n",
        "matriz = confusion_matrix(classe_teste, previsoes)"
      ],
      "execution_count": null,
      "outputs": []
    },
    {
      "cell_type": "code",
      "metadata": {
        "colab": {
          "base_uri": "https://localhost:8080/"
        },
        "id": "nQC0mQBqBufS",
        "outputId": "d6d71125-d5aa-42ef-d0d1-ce7e729d3865"
      },
      "source": [
        "precisao"
      ],
      "execution_count": null,
      "outputs": [
        {
          "output_type": "execute_result",
          "data": {
            "text/plain": [
              "0.649367088607595"
            ]
          },
          "metadata": {
            "tags": []
          },
          "execution_count": 778
        }
      ]
    },
    {
      "cell_type": "code",
      "metadata": {
        "id": "DBAA-VSAgNZV"
      },
      "source": [
        "matriz"
      ],
      "execution_count": null,
      "outputs": []
    },
    {
      "cell_type": "code",
      "metadata": {
        "id": "TW2QXXkWJbiY"
      },
      "source": [
        "previsores_teste"
      ],
      "execution_count": null,
      "outputs": []
    },
    {
      "cell_type": "code",
      "metadata": {
        "id": "gwpuLO8WJg7D"
      },
      "source": [
        "df_f.columns"
      ],
      "execution_count": null,
      "outputs": []
    },
    {
      "cell_type": "markdown",
      "metadata": {
        "id": "ZT-W9oW6gVp3"
      },
      "source": [
        "prevendo um jogo específico"
      ]
    },
    {
      "cell_type": "code",
      "metadata": {
        "id": "y5OTmu8QJoAt"
      },
      "source": [
        "x_prev = np.array([6,9,5,3,2,1,1,0,0,2,4,5,7,10,11,12,14,17,18,19,20,22,24,25]).reshape(1,-1)"
      ],
      "execution_count": null,
      "outputs": []
    },
    {
      "cell_type": "code",
      "metadata": {
        "colab": {
          "base_uri": "https://localhost:8080/"
        },
        "id": "HFcTkBjPfNG7",
        "outputId": "644e4fdd-b60a-4a81-be9c-ef414c113916"
      },
      "source": [
        "x_prev"
      ],
      "execution_count": null,
      "outputs": [
        {
          "output_type": "execute_result",
          "data": {
            "text/plain": [
              "array([[ 6,  9,  5,  3,  2,  1,  1,  0,  0,  2,  4,  5,  7, 10, 11, 12,\n",
              "        14, 17, 18, 19, 20, 22, 24, 25]])"
            ]
          },
          "metadata": {
            "tags": []
          },
          "execution_count": 780
        }
      ]
    },
    {
      "cell_type": "code",
      "metadata": {
        "id": "5KGnCdU0eg0y"
      },
      "source": [
        "#x_prev = scaler.fit_transform(x_prev)"
      ],
      "execution_count": null,
      "outputs": []
    },
    {
      "cell_type": "code",
      "metadata": {
        "colab": {
          "base_uri": "https://localhost:8080/"
        },
        "id": "DH6evzAbJTWe",
        "outputId": "6c849c12-59c8-4176-ce87-36f965ec9253"
      },
      "source": [
        "classificador.predict(x_prev)"
      ],
      "execution_count": null,
      "outputs": [
        {
          "output_type": "execute_result",
          "data": {
            "text/plain": [
              "array([1])"
            ]
          },
          "metadata": {
            "tags": []
          },
          "execution_count": 783
        }
      ]
    },
    {
      "cell_type": "code",
      "metadata": {
        "id": "VaryYGRbgiN6"
      },
      "source": [
        "x_prev = np.array([8,7,5,0,0,0,0,0,1,1,2,3,4,5,6,7,8,9,10,11,12,13,14,15]).reshape(1,-1)"
      ],
      "execution_count": null,
      "outputs": []
    },
    {
      "cell_type": "code",
      "metadata": {
        "id": "2kYmPCrhg5k9"
      },
      "source": [
        "#x_prev = scaler.fit_transform(x_prev)\n",
        "classificador.predict(x_prev)"
      ],
      "execution_count": null,
      "outputs": []
    },
    {
      "cell_type": "code",
      "metadata": {
        "id": "Ruxb3lmChGus"
      },
      "source": [
        "x_prev = np.array([8,7,5,1,0,0,0,0,0,0,0,0,0,0,0,0,0,0,17,18,19,20,21,24]).reshape(1,-1)\n",
        "#x_prev = scaler.fit_transform(x_prev)\n"
      ],
      "execution_count": null,
      "outputs": []
    },
    {
      "cell_type": "code",
      "metadata": {
        "id": "XG0Wd3fFhZlZ"
      },
      "source": [
        "previsoes= classificador.predict(x_prev) "
      ],
      "execution_count": null,
      "outputs": []
    },
    {
      "cell_type": "code",
      "metadata": {
        "colab": {
          "base_uri": "https://localhost:8080/"
        },
        "id": "sMlZKWGQmTsV",
        "outputId": "52c239b2-09d9-40b8-ae5c-6d1415e0c27f"
      },
      "source": [
        "previsoes[0]"
      ],
      "execution_count": null,
      "outputs": [
        {
          "output_type": "execute_result",
          "data": {
            "text/plain": [
              "1"
            ]
          },
          "metadata": {
            "tags": []
          },
          "execution_count": 786
        }
      ]
    },
    {
      "cell_type": "code",
      "metadata": {
        "id": "_QXi6qQippEF"
      },
      "source": [
        "df_f.columns"
      ],
      "execution_count": null,
      "outputs": []
    },
    {
      "cell_type": "markdown",
      "metadata": {
        "id": "AxBkiQGAmXih"
      },
      "source": [
        "Gerando jogos aleatórios e vendo se ganha"
      ]
    },
    {
      "cell_type": "markdown",
      "metadata": {
        "id": "CU7-j7d_dxOl"
      },
      "source": [
        "# Análise de sequencias"
      ]
    },
    {
      "cell_type": "code",
      "metadata": {
        "id": "GpI3fp_XVBcl"
      },
      "source": [
        "#quantas vezes a sequencia de 1 se repete quando o jogo teve ganhador\n",
        "print(\"Sequencia de numeros de jogo ganho\")\n",
        "seq11 = 0\n",
        "seq12 = 0\n",
        "seq13 = 0\n",
        "seq14 = 0\n",
        "seq15 = 0\n",
        "for i in range(df_f.shape[0]):\n",
        "  if df_f.Ganhadores[i] > 0:\n",
        "    if df_f.Seq1[i] == 1:\n",
        "      seq11 +=1\n",
        "    if df_f.Seq1[i] == 2:\n",
        "      seq12 +=1\n",
        "    if df_f.Seq1[i] == 3:\n",
        "      seq13 +=1\n",
        "    if df_f.Seq1[i] == 4:\n",
        "      seq14 +=1\n",
        "    if df_f.Seq1[i] == 5:\n",
        "      seq15 +=1\n",
        "print(\"Sequencia de 1 (Repetição)\",seq11, seq12, seq13, seq14, seq15)\n",
        "Seq21 = 0\n",
        "Seq22 = 0\n",
        "Seq23 = 0\n",
        "Seq24 = 0\n",
        "Seq25 = 0\n",
        "for i in range(df_f.shape[0]):\n",
        "  if df_f.Ganhadores[i] > 0:\n",
        "    if df_f.Seq2[i] == 1:\n",
        "      Seq21 +=1\n",
        "    if df_f.Seq2[i] == 2:\n",
        "      Seq22 +=1\n",
        "    if df_f.Seq2[i] == 3:\n",
        "      Seq23 +=1\n",
        "    if df_f.Seq2[i] == 4:\n",
        "      Seq24 +=1\n",
        "    if df_f.Seq2[i] == 5:\n",
        "      Seq25 +=1\n",
        "print(\"Sequencia de 2 (Repetição)\",Seq21, Seq22, Seq23, Seq24, Seq25)\n",
        "Seq31 = 0\n",
        "Seq32 = 0\n",
        "Seq33 = 0\n",
        "Seq34 = 0\n",
        "Seq35 = 0\n",
        "for i in range(df_f.shape[0]):\n",
        "  if df_f.Ganhadores[i] > 0:\n",
        "    if df_f.Seq3[i] == 1:\n",
        "      Seq31 +=1\n",
        "    if df_f.Seq3[i] == 2:\n",
        "      Seq32 +=1\n",
        "    if df_f.Seq3[i] == 3:\n",
        "      Seq33 +=1\n",
        "    if df_f.Seq3[i] == 4:\n",
        "      Seq34 +=1\n",
        "    if df_f.Seq3[i] == 5:\n",
        "      Seq35 +=1\n",
        "print(\"Sequencia de 3 (Repetição)\",Seq31, Seq32, Seq33, Seq34, Seq35)\n",
        "Seq41 = 0\n",
        "Seq42 = 0\n",
        "Seq43 = 0\n",
        "Seq44 = 0\n",
        "Seq45 = 0\n",
        "for i in range(df_f.shape[0]):\n",
        "  if df_f.Ganhadores[i] > 0:\n",
        "    if df_f.Seq4[i] == 1:\n",
        "      Seq41 +=1\n",
        "    if df_f.Seq4[i] == 2:\n",
        "      Seq42 +=1\n",
        "    if df_f.Seq4[i] == 3:\n",
        "      Seq43 +=1\n",
        "    if df_f.Seq4[i] == 4:\n",
        "      Seq44 +=1\n",
        "    if df_f.Seq4[i] == 5:\n",
        "      Seq45 +=1\n",
        "print(\"Sequencia de 4 (Repetição)\",Seq41, Seq42, Seq43, Seq44, Seq45)"
      ],
      "execution_count": null,
      "outputs": []
    },
    {
      "cell_type": "code",
      "metadata": {
        "id": "2_KHUKFlY3cN"
      },
      "source": [
        "print(\"Quantas vezes o 1 se repete em comparação com a sequencia de 2\")\n",
        "seqend1 = 0\n",
        "seqend2 = 0\n",
        "seqend3 = 0\n",
        "seqend4 = 0\n",
        "seqend5 = 0\n",
        "for i in range(df_f.shape[0]):\n",
        "  if df_f.Ganhadores[i] > 0:\n",
        "    if df_f.Seq1[i] == 1 and df_f.Seq2[i] == 1:\n",
        "      seqend1 +=1\n",
        "    if df_f.Seq1[i] == 2 and df_f.Seq2[i] == 2:\n",
        "      seqend2 +=1\n",
        "    if df_f.Seq1[i] == 3 and df_f.Seq2[i] == 3:\n",
        "      seqend3 +=1\n",
        "    if df_f.Seq1[i] == 4 and df_f.Seq2[i] == 4:\n",
        "      seqend4 +=1\n",
        "    if df_f.Seq1[i] == 5 and df_f.Seq2[i] == 5:\n",
        "      seqend5 +=1\n",
        "print(\"Sequencia de repetição\",seqend1, seqend2, seqend3, seqend4, seqend5)"
      ],
      "execution_count": null,
      "outputs": []
    },
    {
      "cell_type": "code",
      "metadata": {
        "id": "F2DWwRj-a5aP"
      },
      "source": [
        "print(\"Quantas vezes o 1 se repete em comparação com a sequencia de 3\")\n",
        "seqend1 = 0\n",
        "seqend2 = 0\n",
        "seqend3 = 0\n",
        "seqend4 = 0\n",
        "seqend5 = 0\n",
        "for i in range(df_f.shape[0]):\n",
        "  if df_f.Ganhadores[i] > 0:\n",
        "    if df_f.Seq1[i] == 1 and df_f.Seq3[i] == 1:\n",
        "      seqend1 +=1\n",
        "    if df_f.Seq1[i] == 2 and df_f.Seq3[i] == 2:\n",
        "      seqend2 +=1\n",
        "    if df_f.Seq1[i] == 3 and df_f.Seq3[i] == 3:\n",
        "      seqend3 +=1\n",
        "    if df_f.Seq1[i] == 4 and df_f.Seq3[i] == 4:\n",
        "      seqend4 +=1\n",
        "    if df_f.Seq1[i] == 5 and df_f.Seq3[i] == 5:\n",
        "      seqend5 +=1\n",
        "print(\"Sequencia de repetição\",seqend1, seqend2, seqend3, seqend4, seqend5)"
      ],
      "execution_count": null,
      "outputs": []
    },
    {
      "cell_type": "code",
      "metadata": {
        "id": "Dk2mUdyodZ8o"
      },
      "source": [
        "print(\"Quantas vezes o 1 se repete em comparação com a sequencia de 3\")\n",
        "seqend1 = 0\n",
        "seqend2 = 0\n",
        "seqend3 = 0\n",
        "seqend4 = 0\n",
        "seqend5 = 0\n",
        "for i in range(df_f.shape[0]):\n",
        "  if df_f.Ganhadores[i] > 0:\n",
        "    if df_f.Seq1[i] == 1 and df_f.Seq4[i] == 1:\n",
        "      seqend1 +=1\n",
        "    if df_f.Seq1[i] == 2 and df_f.Seq4[i] == 2:\n",
        "      seqend2 +=1\n",
        "    if df_f.Seq1[i] == 3 and df_f.Seq4[i] == 3:\n",
        "      seqend3 +=1\n",
        "    if df_f.Seq1[i] == 4 and df_f.Seq4[i] == 4:\n",
        "      seqend4 +=1\n",
        "    if df_f.Seq1[i] == 5 and df_f.Seq4[i] == 5:\n",
        "      seqend5 +=1\n",
        "print(\"Sequencia de repetição\",seqend1, seqend2, seqend3, seqend4, seqend5)"
      ],
      "execution_count": null,
      "outputs": []
    },
    {
      "cell_type": "code",
      "metadata": {
        "id": "cKraxUT3di1S"
      },
      "source": [
        "print(\"Quantas vezes o 2 se repete em comparação com a sequencia de 3\")\n",
        "seqend1 = 0\n",
        "seqend2 = 0\n",
        "seqend3 = 0\n",
        "seqend4 = 0\n",
        "seqend5 = 0\n",
        "for i in range(df_f.shape[0]):\n",
        "  if df_f.Ganhadores[i] > 0:\n",
        "    if df_f.Seq2[i] == 1 and df_f.Seq3[i] == 1:\n",
        "      seqend1 +=1\n",
        "    if df_f.Seq2[i] == 2 and df_f.Seq3[i] == 2:\n",
        "      seqend2 +=1\n",
        "    if df_f.Seq2[i] == 3 and df_f.Seq3[i] == 3:\n",
        "      seqend3 +=1\n",
        "    if df_f.Seq2[i] == 4 and df_f.Seq3[i] == 4:\n",
        "      seqend4 +=1\n",
        "    if df_f.Seq2[i] == 5 and df_f.Seq3[i] == 5:\n",
        "      seqend5 +=1\n",
        "print(\"Sequencia de repetição\",seqend1, seqend2, seqend3, seqend4, seqend5)"
      ],
      "execution_count": null,
      "outputs": []
    },
    {
      "cell_type": "code",
      "metadata": {
        "id": "ytuWpNMwXXMI"
      },
      "source": [
        "seq11 = 0\n",
        "seq12 = 0\n",
        "seq13 = 0\n",
        "seq14 = 0\n",
        "seq15 = 0\n",
        "for i in range(df_f.shape[0]):\n",
        "  if df_f.Ganhadores[i] == 0:\n",
        "    if df_f.Seq1[i] == 1:\n",
        "      seq11 +=1\n",
        "    if df_f.Seq1[i] == 2:\n",
        "      seq12 +=1\n",
        "    if df_f.Seq1[i] == 3:\n",
        "      seq13 +=1\n",
        "    if df_f.Seq1[i] == 4:\n",
        "      seq14 +=1\n",
        "    if df_f.Seq1[i] == 5:\n",
        "      seq15 +=1\n",
        "print(seq11, seq12, seq13, seq14, seq15)"
      ],
      "execution_count": null,
      "outputs": []
    },
    {
      "cell_type": "markdown",
      "metadata": {
        "id": "PSuOwJ07tuIB"
      },
      "source": [
        "# RANDOM FOREST"
      ]
    },
    {
      "cell_type": "code",
      "metadata": {
        "id": "I0l9VVx3tvqZ"
      },
      "source": [
        "from sklearn.preprocessing import StandardScaler\n",
        "scaler = StandardScaler()\n",
        "#previsores = scaler.fit_transform(X_train)\n",
        "\n",
        "from sklearn.model_selection import train_test_split\n",
        "previsores_treinamento, previsores_teste, classe_treinamento, classe_teste = train_test_split(X_train, y_class, test_size=0.3, random_state=0)\n",
        "\n",
        "#IMPORTAÇÃO DA BIBLIOTECA DO RANDOM FLOREST\n",
        "#CLASSIFICA PELA VOTAÇÃO DA MAIORIA\n",
        "#USA VÁRIAS ÁRVORES PARA CHEGAR A UM RESULTADO. CADA ÁRVORE TEM SEUS PARÂMETROS\n",
        "from sklearn.ensemble import RandomForestClassifier\n",
        "#vai gerar 40 árvores de decisão\n",
        "classificador = RandomForestClassifier(n_estimators=40, criterion='entropy', random_state=0)\n",
        "#fit vai gerar as 10 florestas, o que realmente monta as árvores\n",
        "classificador.fit(previsores_treinamento, classe_treinamento)\n",
        "#fez previsões com as 4o árvores\n",
        "previsoes = classificador.predict(previsores_teste)\n"
      ],
      "execution_count": null,
      "outputs": []
    },
    {
      "cell_type": "code",
      "metadata": {
        "id": "GFfTm8YpuQd7"
      },
      "source": [
        "\n",
        "from sklearn.metrics import confusion_matrix, accuracy_score\n",
        "precisao = accuracy_score(classe_teste, previsoes)\n",
        "matriz = confusion_matrix(classe_teste, previsoes)"
      ],
      "execution_count": null,
      "outputs": []
    },
    {
      "cell_type": "code",
      "metadata": {
        "colab": {
          "base_uri": "https://localhost:8080/"
        },
        "id": "HMRWwh_4uT6b",
        "outputId": "f3f27313-ac40-498b-f4df-4b429a328039"
      },
      "source": [
        "precisao"
      ],
      "execution_count": null,
      "outputs": [
        {
          "output_type": "execute_result",
          "data": {
            "text/plain": [
              "0.7113924050632912"
            ]
          },
          "metadata": {
            "tags": []
          },
          "execution_count": 825
        }
      ]
    },
    {
      "cell_type": "code",
      "metadata": {
        "id": "H8TEq0y4ue8x"
      },
      "source": [
        "x_prev = np.array([8,7,5,0,0,0,0,0,1,1,2,3,4,5,6,7,8,9,10,11,12,13,14,15]).reshape(1,-1)"
      ],
      "execution_count": null,
      "outputs": []
    },
    {
      "cell_type": "code",
      "metadata": {
        "id": "l2CejI0VuWKa"
      },
      "source": [
        "previsoes = classificador.predict(x_prev)"
      ],
      "execution_count": null,
      "outputs": []
    },
    {
      "cell_type": "code",
      "metadata": {
        "colab": {
          "base_uri": "https://localhost:8080/"
        },
        "id": "x7Rmnwxauh24",
        "outputId": "28b91ed9-9ded-4405-a841-98c46597ff5a"
      },
      "source": [
        "# 0 -> vai ganhar\n",
        "# 1 -> não vai ganhar\n",
        "previsoes[0]"
      ],
      "execution_count": null,
      "outputs": [
        {
          "output_type": "execute_result",
          "data": {
            "text/plain": [
              "1"
            ]
          },
          "metadata": {
            "tags": []
          },
          "execution_count": 828
        }
      ]
    },
    {
      "cell_type": "code",
      "metadata": {
        "id": "O09pT42zuqMW"
      },
      "source": [
        "x_prev = np.array([8,7,5,1,0,0,0,1,1,2,5,7,8,9,10,11,15,16,17,18,19,20,21,24]).reshape(1,-1)"
      ],
      "execution_count": null,
      "outputs": []
    },
    {
      "cell_type": "code",
      "metadata": {
        "id": "IrUvVWodzjIx"
      },
      "source": [
        "x_prev = np.array([4,7,8,1,5,0,1,0,0,1,2,3,4,6,7,9,10,12,16,17,19,20,22,23]).reshape(1,-1)"
      ],
      "execution_count": null,
      "outputs": []
    },
    {
      "cell_type": "code",
      "metadata": {
        "id": "USxK8FLbzsP0"
      },
      "source": [
        "x_prev = np.array([4,8,7,3,2,1,1,0,0, 1, 2, 4, 7, 9, 12, 13, 14, 16, 17, 20, 21, 22, 23, 25]).reshape(1,-1)"
      ],
      "execution_count": null,
      "outputs": []
    },
    {
      "cell_type": "code",
      "metadata": {
        "id": "ZmFJT0fO0uGf"
      },
      "source": [
        "x_prev = np.array([0,0,0,0,0,0,0,0,0,0,0,0,0,0,20,21,14,15,0,25,0,0,0,0]).reshape(1,-1)"
      ],
      "execution_count": null,
      "outputs": []
    },
    {
      "cell_type": "code",
      "metadata": {
        "id": "aUhs7nqR1nQ3"
      },
      "source": [
        "x_prev = np.array([5,7,8,4,1,3,0,0,0,1,2,3,7,8,9,10,13,15,17,18,20,22,23,24]).reshape(1,-1)"
      ],
      "execution_count": null,
      "outputs": []
    },
    {
      "cell_type": "code",
      "metadata": {
        "id": "z2ce4dx02PMh"
      },
      "source": [
        "x_prev = np.array([8,\t7,\t4,\t5,\t2,\t2,\t0,\t0,\t0, 1,\t3,\t4,\t5,\t7,\t9,\t10,\t12,\t14,\t16,\t17,\t20,\t21,\t22,\t25]).reshape(1,-1)"
      ],
      "execution_count": null,
      "outputs": []
    },
    {
      "cell_type": "code",
      "metadata": {
        "id": "BK6GM0Xv1xCe"
      },
      "source": [
        "df_f.tail()"
      ],
      "execution_count": null,
      "outputs": []
    },
    {
      "cell_type": "markdown",
      "metadata": {
        "id": "qA03Jkb9ECwN"
      },
      "source": [
        "#JOGANDO UM JOGO"
      ]
    },
    {
      "cell_type": "code",
      "metadata": {
        "id": "LqA-ji7sEIQi"
      },
      "source": [
        "def inserir_jogo(jogo):\n",
        "  condition = False\n",
        "  cont = 0\n",
        "\n",
        "  def pares(jogo):\n",
        "    contPares=0\n",
        "    for i in range(len(jogo)):\n",
        "        if jogo[i]%2==0:\n",
        "          contPares +=1\n",
        "    return contPares\n",
        "\n",
        "  def primo(jogo):\n",
        "    cont =0\n",
        "    ehPrimo = 0\n",
        "    for i in range(len(jogo)):\n",
        "      cont =0\n",
        "      if jogo[i]%2!=0:\n",
        "        for k in range(1,jogo[i]+1):\n",
        "          if jogo[i] % k == 0:\n",
        "            #print(df.Numeros[i][j], \"foi divisível por\", k)\n",
        "            cont += 1\n",
        "        if cont == 2:\n",
        "          ehPrimo +=1\n",
        "    ehPrimo = int(ehPrimo)\n",
        "    return ehPrimo\n",
        "\n",
        "  def sequencia(jogo):\n",
        "    sequencia = 0\n",
        "    seq0=0\n",
        "    seq1=0\n",
        "    seq2=0\n",
        "    seq3=0\n",
        "    seq4=0\n",
        "    seq5=0\n",
        "    seqMore=0\n",
        "    for i in range(len(jogo)):\n",
        "      number = jogo[i]\n",
        "      if i == 14:\n",
        "        i = 13\n",
        "      if number == jogo[i+1]-1:\n",
        "        number = jogo[i+1]\n",
        "        sequencia +=1\n",
        "      else:\n",
        "        number = jogo[i+1]\n",
        "        if sequencia == 0:\n",
        "          seq0 +=1\n",
        "        else:\n",
        "          if sequencia == 1:\n",
        "            seq2 += 1\n",
        "          if sequencia == 2:\n",
        "            seq3 += 1\n",
        "          if sequencia == 3:\n",
        "            seq4 += 1\n",
        "          if sequencia == 4:\n",
        "            seq5 += 1\n",
        "          if sequencia > 4:\n",
        "            seqMore += 1\n",
        "          sequencia = 0\n",
        "    return seq0, seq2, seq3, seq4, seq5, seqMore\n",
        "\n",
        "\n",
        "  pares = pares(jogo)\n",
        "  impares = 15 - pares\n",
        "  primos = primo(jogo)\n",
        "  #print(primos)\n",
        "  seq0, seq2, seq3, seq4, seq5, seqMore = sequencia(jogo)\n",
        "\n",
        "  num1=1\n",
        "  num2=2\n",
        "  num3=3\n",
        "  num4=4\n",
        "  num5=5\n",
        "  num6=6\n",
        "  num7=7\n",
        "  num8=8\n",
        "  num9=9\n",
        "  num10=10\n",
        "  num11=11\n",
        "  num12=12\n",
        "  num13=13\n",
        "  num14=14\n",
        "  num15=15\n",
        "  num=0\n",
        "  for i in range(1,len(jogo)+1):\n",
        "    num = str(num)\n",
        "    num = num + str(i)\n",
        "    num = int(num)\n",
        "    if num == i:\n",
        "      num = jogo[i]\n",
        "      print(num)\n",
        "    #if num == i:\n",
        "    #  print(num) \n",
        "  \n",
        "  return [primos, impares, pares, seq0, seq2, seq3, seq4, seq5, seqMore, num1, num2, num3, num4, num5, num6, num7, num8, num9, num10, num11, num12, num13, num14, num15]\n"
      ],
      "execution_count": null,
      "outputs": []
    },
    {
      "cell_type": "code",
      "metadata": {
        "colab": {
          "base_uri": "https://localhost:8080/"
        },
        "id": "QPrBMMIkEeqd",
        "outputId": "308329dc-994f-45c8-9dcb-505046740a52"
      },
      "source": [
        "array_jogo = inserir_jogo([1,2,3,4,5,6,7,8,9,10,11,12,13,14,16])"
      ],
      "execution_count": null,
      "outputs": [
        {
          "output_type": "stream",
          "text": [
            "2\n"
          ],
          "name": "stdout"
        }
      ]
    },
    {
      "cell_type": "code",
      "metadata": {
        "colab": {
          "base_uri": "https://localhost:8080/"
        },
        "id": "fwsLE-RAFQqD",
        "outputId": "df3677f0-bc5f-4a4e-c91a-baec5a88285a"
      },
      "source": [
        "array_jogo"
      ],
      "execution_count": null,
      "outputs": [
        {
          "output_type": "execute_result",
          "data": {
            "text/plain": [
              "[5, 7, 8, 1, 0, 0, 0, 0, 1, 1, 2, 3, 4, 5, 6, 7, 8, 9, 10, 11, 12, 13, 14, 15]"
            ]
          },
          "metadata": {
            "tags": []
          },
          "execution_count": 930
        }
      ]
    },
    {
      "cell_type": "code",
      "metadata": {
        "id": "b03T2FJzGx9K"
      },
      "source": [
        "teste = [1,2,3,4,5,6,7,8,9,10,11,12,13,14,15]"
      ],
      "execution_count": null,
      "outputs": []
    },
    {
      "cell_type": "code",
      "metadata": {
        "id": "OEzR2IT6GzLX"
      },
      "source": [
        "num1, num2, num3, num4, num5, num6, num7, num8, num9, num10, num11, num12, num13, num14, num15"
      ],
      "execution_count": null,
      "outputs": []
    }
  ]
}